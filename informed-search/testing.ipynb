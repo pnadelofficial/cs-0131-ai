{
 "cells": [
  {
   "cell_type": "code",
   "execution_count": 1,
   "id": "d9e1422e",
   "metadata": {},
   "outputs": [
    {
     "data": {
      "text/plain": [
       "[7, 1, 10, 3, 2, 4, 5, 8, 6, 9]"
      ]
     },
     "execution_count": 1,
     "metadata": {},
     "output_type": "execute_result"
    }
   ],
   "source": [
    "# pancake problem\n",
    "import random \n",
    "\n",
    "test_stack = [i for i in range(1, 11)]\n",
    "random.shuffle(test_stack)\n",
    "test_stack"
   ]
  },
  {
   "cell_type": "code",
   "execution_count": 2,
   "id": "843caeb1",
   "metadata": {},
   "outputs": [],
   "source": [
    "def flip(stack, k):\n",
    "    \"\"\"Flips the first k elements of the stack.\"\"\"\n",
    "    flipped = stack[:k][::-1] # Cutting the first k elements and reversing them\n",
    "    rest = stack[k:] # Keeping the rest of the stack unchanged\n",
    "    return flipped + rest # Concatenating the flipped part with the rest of the stack"
   ]
  },
  {
   "cell_type": "code",
   "execution_count": 3,
   "id": "1b1801ed",
   "metadata": {},
   "outputs": [
    {
     "data": {
      "text/plain": [
       "[2, 3, 10, 1, 7, 4, 5, 8, 6, 9]"
      ]
     },
     "execution_count": 3,
     "metadata": {},
     "output_type": "execute_result"
    }
   ],
   "source": [
    "flip(test_stack, 5)"
   ]
  },
  {
   "cell_type": "code",
   "execution_count": 4,
   "id": "121500ec",
   "metadata": {},
   "outputs": [],
   "source": [
    "# Cost function\n",
    "## Could be just the sum...\n",
    "\n",
    "def calculate_cost(stack):\n",
    "    \"\"\"Calculates the cost of flipping a substack.\"\"\"\n",
    "    return sum(stack)  # Cost is the sum of the values in the substack"
   ]
  },
  {
   "cell_type": "code",
   "execution_count": 5,
   "id": "86a45b26",
   "metadata": {},
   "outputs": [],
   "source": [
    "# Heuristic function\n",
    "## Given Gap Heuristic: the number of stack positions for which the pancake\n",
    "## at that position is not of adjacent size to the pancake below\n",
    "def calculate_gap_heuristic(stack):\n",
    "    \"\"\"Calculates the gap heuristic for the stack.\"\"\"   \n",
    "    gaps = 0\n",
    "    for i, s in enumerate(stack):\n",
    "        if i+1 != len(stack): # Avoids IndexError for last pancake\n",
    "            this_pancake = s\n",
    "            # Check gaps below\n",
    "            next_pancake = stack[i+1]\n",
    "            if abs(this_pancake - next_pancake) > 1: # Gap! Not adjacent\n",
    "                gaps += 1\n",
    "    return gaps\n",
    "        "
   ]
  },
  {
   "cell_type": "code",
   "execution_count": 6,
   "id": "aa7e7e8e",
   "metadata": {},
   "outputs": [
    {
     "data": {
      "text/plain": [
       "5"
      ]
     },
     "execution_count": 6,
     "metadata": {},
     "output_type": "execute_result"
    }
   ],
   "source": [
    "calculate_gap_heuristic([3,2,5,1,6,4,7]) # matches paper results"
   ]
  },
  {
   "cell_type": "code",
   "execution_count": 7,
   "id": "fbc64a2a",
   "metadata": {},
   "outputs": [
    {
     "data": {
      "text/plain": [
       "7"
      ]
     },
     "execution_count": 7,
     "metadata": {},
     "output_type": "execute_result"
    }
   ],
   "source": [
    "calculate_gap_heuristic(test_stack)"
   ]
  },
  {
   "cell_type": "code",
   "execution_count": 8,
   "id": "ffcfddfb",
   "metadata": {},
   "outputs": [
    {
     "data": {
      "text/plain": [
       "[7, 1, 10, 3, 2, 4, 5, 8, 6, 9]"
      ]
     },
     "execution_count": 8,
     "metadata": {},
     "output_type": "execute_result"
    }
   ],
   "source": [
    "test_stack"
   ]
  },
  {
   "cell_type": "code",
   "execution_count": 9,
   "id": "75592e68",
   "metadata": {},
   "outputs": [
    {
     "name": "stdout",
     "output_type": "stream",
     "text": [
      "1 14 7 7\n",
      "2 15 8 7\n",
      "3 25 18 7\n",
      "4 29 21 8\n",
      "5 30 23 7\n",
      "6 35 27 8\n",
      "7 38 32 6\n",
      "8 46 40 6\n",
      "9 53 46 7\n"
     ]
    }
   ],
   "source": [
    "for i in range(1, len(test_stack)): # Loop through insert points\n",
    "    substack = test_stack[:i]\n",
    "    cost = calculate_cost(substack)\n",
    "    poss_stack = flip(test_stack, i)\n",
    "    heuristic = calculate_gap_heuristic(poss_stack)\n",
    "    f = cost + heuristic\n",
    "    print(i, f, cost, heuristic)"
   ]
  },
  {
   "cell_type": "code",
   "execution_count": 10,
   "id": "1304fb7e",
   "metadata": {},
   "outputs": [
    {
     "name": "stdout",
     "output_type": "stream",
     "text": [
      "[7, 1, 10, 3, 2, 4, 5, 8, 6, 9]\n",
      "[1, 7, 10, 3, 2, 4, 5, 8, 6, 9]\n",
      "[10, 1, 7, 3, 2, 4, 5, 8, 6, 9]\n",
      "[3, 10, 1, 7, 2, 4, 5, 8, 6, 9]\n",
      "[2, 3, 10, 1, 7, 4, 5, 8, 6, 9]\n",
      "[4, 2, 3, 10, 1, 7, 5, 8, 6, 9]\n",
      "[5, 4, 2, 3, 10, 1, 7, 8, 6, 9]\n",
      "[8, 5, 4, 2, 3, 10, 1, 7, 6, 9]\n",
      "[6, 8, 5, 4, 2, 3, 10, 1, 7, 9]\n"
     ]
    }
   ],
   "source": [
    "import heapq\n",
    "\n",
    "pq = []\n",
    "\n",
    "for i in range(1, len(test_stack)): # Loop through insert points\n",
    "    substack = test_stack[:i] # get substack\n",
    "    cost = calculate_cost(substack) # calc cost to flip the substack\n",
    "    poss_stack = flip(test_stack, i) # flip the substack\n",
    "    print(poss_stack)\n",
    "    heuristic = calculate_gap_heuristic(poss_stack) # calc heuristic (does this flip make the stack closer?)\n",
    "    f = cost + heuristic # total a* function cost\n",
    "    heapq.heappush(pq, (f, i, poss_stack)) # add to priority queue"
   ]
  },
  {
   "cell_type": "code",
   "execution_count": 11,
   "id": "87cdb7e2",
   "metadata": {},
   "outputs": [
    {
     "data": {
      "text/plain": [
       "[(14, 1, [7, 1, 10, 3, 2, 4, 5, 8, 6, 9]),\n",
       " (15, 2, [1, 7, 10, 3, 2, 4, 5, 8, 6, 9]),\n",
       " (25, 3, [10, 1, 7, 3, 2, 4, 5, 8, 6, 9]),\n",
       " (29, 4, [3, 10, 1, 7, 2, 4, 5, 8, 6, 9]),\n",
       " (30, 5, [2, 3, 10, 1, 7, 4, 5, 8, 6, 9]),\n",
       " (35, 6, [4, 2, 3, 10, 1, 7, 5, 8, 6, 9]),\n",
       " (38, 7, [5, 4, 2, 3, 10, 1, 7, 8, 6, 9]),\n",
       " (46, 8, [8, 5, 4, 2, 3, 10, 1, 7, 6, 9]),\n",
       " (53, 9, [6, 8, 5, 4, 2, 3, 10, 1, 7, 9])]"
      ]
     },
     "execution_count": 11,
     "metadata": {},
     "output_type": "execute_result"
    }
   ],
   "source": [
    "pq"
   ]
  },
  {
   "cell_type": "code",
   "execution_count": 12,
   "id": "f2e40e79",
   "metadata": {},
   "outputs": [
    {
     "data": {
      "text/plain": [
       "[7, 1, 10, 3, 2, 4, 5, 8, 6, 9]"
      ]
     },
     "execution_count": 12,
     "metadata": {},
     "output_type": "execute_result"
    }
   ],
   "source": [
    "f, i, stack = heapq.heappop(pq)\n",
    "stack"
   ]
  },
  {
   "cell_type": "code",
   "execution_count": 13,
   "id": "84fd8a12",
   "metadata": {},
   "outputs": [
    {
     "data": {
      "text/plain": [
       "[7, 1, 10, 3, 2, 4, 5, 8, 6, 9]"
      ]
     },
     "execution_count": 13,
     "metadata": {},
     "output_type": "execute_result"
    }
   ],
   "source": [
    "test_stack"
   ]
  },
  {
   "cell_type": "code",
   "execution_count": 14,
   "id": "f1af2340",
   "metadata": {},
   "outputs": [],
   "source": [
    "GOLD = [1, 2, 3, 4, 5, 6, 7, 8, 9, 10]"
   ]
  },
  {
   "cell_type": "code",
   "execution_count": 15,
   "id": "ceb8cf08",
   "metadata": {},
   "outputs": [],
   "source": [
    "def generate_successors(stack, current_cost):\n",
    "    for i in range(1, len(stack)):\n",
    "        single_action_cost = calculate_cost(stack[:i])\n",
    "        poss_stack = flip(stack, i)\n",
    "        heuristic_score = calculate_gap_heuristic(poss_stack)\n",
    "        new_current_cost = current_cost + single_action_cost\n",
    "        f_score = new_current_cost + heuristic_score\n",
    "        new_state = (poss_stack, new_current_cost)\n",
    "        heapq.heappush(pq, (f_score, i, new_state))"
   ]
  },
  {
   "cell_type": "code",
   "execution_count": 16,
   "id": "f52f34a1",
   "metadata": {},
   "outputs": [],
   "source": [
    "pq = []\n",
    "visited = set()\n",
    "\n",
    "generate_successors(test_stack, 0)\n",
    "\n",
    "while len(pq) > 0:\n",
    "    f_score, i, current_state_tup = heapq.heappop(pq)\n",
    "    if tuple(current_state_tup[0]) in visited:\n",
    "        continue\n",
    "\n",
    "    if current_state_tup[0] == GOLD:\n",
    "        print(current_state_tup)\n",
    "        break\n",
    "\n",
    "    visited.add(tuple(current_state_tup[0]))\n",
    "    generate_successors(*current_state_tup[:2])    "
   ]
  },
  {
   "cell_type": "markdown",
   "id": "11589eda",
   "metadata": {},
   "source": [
    "# starting over"
   ]
  },
  {
   "cell_type": "code",
   "execution_count": 1,
   "id": "238f1aaa",
   "metadata": {},
   "outputs": [
    {
     "data": {
      "text/plain": [
       "[8, 6, 7, 9, 3, 5, 2, 1, 10, 4]"
      ]
     },
     "execution_count": 1,
     "metadata": {},
     "output_type": "execute_result"
    }
   ],
   "source": [
    "import random \n",
    "\n",
    "test_stack = [i for i in range(1, 11)]\n",
    "random.shuffle(test_stack)\n",
    "test_stack"
   ]
  },
  {
   "cell_type": "code",
   "execution_count": null,
   "id": "1677d373",
   "metadata": {},
   "outputs": [],
   "source": [
    "def gap_heuristic(state):\n",
    "    gaps = 0\n",
    "    for prev, curr in zip(state, state[1:]):\n",
    "        if abs(curr - prev) != 1:\n",
    "            gaps +=1\n",
    "    return gaps\n",
    "\n",
    "def no_heuristic():\n",
    "    return 0"
   ]
  },
  {
   "cell_type": "code",
   "execution_count": 3,
   "id": "19f1de0b",
   "metadata": {},
   "outputs": [],
   "source": [
    "class PancakeStack:\n",
    "    def __init__(self, state, parent, added, b_cost, heuristic=gap_heuristic):\n",
    "        self.state = tuple(state)\n",
    "        self.parent = parent\n",
    "        self.added = added\n",
    "        self.b_cost = b_cost\n",
    "        self.heuristic = heuristic\n",
    "\n",
    "    def __lt__(self, other):\n",
    "        my_total_cost = self.total_cost()\n",
    "        others_total_cost = other.total_cost()\n",
    "        if my_total_cost == others_total_cost:\n",
    "            return self.added > other.added\n",
    "        return my_total_cost < others_total_cost\n",
    "\n",
    "    def total_cost(self):\n",
    "        return self.heuristic(self.state) + self.b_cost\n",
    "\n",
    "    def flip(self, k):\n",
    "        new_state = self.state[:k+1][::-1] + self.state[k+1:]\n",
    "        new_b_cost = self.b_cost + 1\n",
    "        return PancakeStack(\n",
    "            state=new_state,\n",
    "            parent=self,\n",
    "            added=self.added + 1,\n",
    "            b_cost=new_b_cost\n",
    "        )"
   ]
  },
  {
   "cell_type": "code",
   "execution_count": 4,
   "id": "abdea79e",
   "metadata": {},
   "outputs": [
    {
     "data": {
      "text/plain": [
       "<__main__.PancakeStack at 0x7dc836305ac0>"
      ]
     },
     "execution_count": 4,
     "metadata": {},
     "output_type": "execute_result"
    }
   ],
   "source": [
    "test_pancake_stack = PancakeStack(\n",
    "    test_stack,\n",
    "    None,\n",
    "    0,\n",
    "    0,\n",
    ")\n",
    "test_pancake_stack"
   ]
  },
  {
   "cell_type": "code",
   "execution_count": 5,
   "id": "248b179f",
   "metadata": {},
   "outputs": [
    {
     "data": {
      "text/plain": [
       "10"
      ]
     },
     "execution_count": 5,
     "metadata": {},
     "output_type": "execute_result"
    }
   ],
   "source": [
    "len(test_stack)"
   ]
  },
  {
   "cell_type": "code",
   "execution_count": 6,
   "id": "d9d1ff28",
   "metadata": {},
   "outputs": [
    {
     "data": {
      "text/plain": [
       "(4, 10, 1, 2, 5, 3, 9, 7, 6, 8)"
      ]
     },
     "execution_count": 6,
     "metadata": {},
     "output_type": "execute_result"
    }
   ],
   "source": [
    "test_pancake_stack.flip(10).state"
   ]
  },
  {
   "cell_type": "code",
   "execution_count": 7,
   "id": "ac23b327",
   "metadata": {},
   "outputs": [
    {
     "data": {
      "text/plain": [
       "(4, 10, 1, 2, 5, 3, 9, 7, 6, 8)"
      ]
     },
     "execution_count": 7,
     "metadata": {},
     "output_type": "execute_result"
    }
   ],
   "source": [
    "test_pancake_stack.flip(11).state"
   ]
  },
  {
   "cell_type": "code",
   "execution_count": 8,
   "id": "e3f0a7ef",
   "metadata": {},
   "outputs": [
    {
     "data": {
      "text/plain": [
       "((4, 10, 1, 2, 5, 3, 9, 7, 6, 8), (8, 6, 7, 9, 3, 5, 2, 1, 10, 4), 1, 1)"
      ]
     },
     "execution_count": 8,
     "metadata": {},
     "output_type": "execute_result"
    }
   ],
   "source": [
    "test_successor = test_pancake_stack.flip(11)\n",
    "test_successor.state, test_successor.parent.state, test_successor.added, test_successor.b_cost"
   ]
  },
  {
   "cell_type": "code",
   "execution_count": 9,
   "id": "57cb8b0b",
   "metadata": {},
   "outputs": [],
   "source": [
    "import heapq\n",
    "\n",
    "class PriorityQueue:\n",
    "    def __init__(self):\n",
    "        self.pq = []\n",
    "        self.state2node = {}\n",
    "    \n",
    "    def push(self, item):\n",
    "        heapq.heappush(self.pq, item)\n",
    "        self.state2node[item.state] = item\n",
    "    \n",
    "    def pop(self):\n",
    "        item = heapq.heappop(self.pq)\n",
    "        del self.state2node[item.state]\n",
    "        return item\n",
    "\n",
    "    def is_empty(self):\n",
    "        return len(self.pq) == 0\n",
    "\n",
    "    def get_node_with_state(self, state):\n",
    "        return self.state2node.get(state, None)\n",
    "\n",
    "    def has(self, state):\n",
    "        return state in self.state2node"
   ]
  },
  {
   "cell_type": "code",
   "execution_count": null,
   "id": "b11db588",
   "metadata": {},
   "outputs": [],
   "source": [
    "GOLD = [1, 2, 3, 4, 5, 6, 7, 8, 9, 10]\n",
    "\n",
    "class AStar:\n",
    "    def __init__(self, initial_state, heuristic=gap_heuristic):\n",
    "        self.initial_state = initial_state\n",
    "        self.length = len(initial_state)\n",
    "        self.heuristic = heuristic\n",
    "\n",
    "        self.solution = False\n",
    "        self.visited = set()\n",
    "        self.pq = PriorityQueue()\n",
    "\n",
    "        self.root = PancakeStack(initial_state, None, 0, 0, heuristic)\n",
    "        self.pq.push(self.root)\n",
    "        self.added = 1\n",
    "    \n",
    "    def search(self):\n",
    "        while True:\n",
    "            if self.pq.is_empty():\n",
    "                return\n",
    "        \n",
    "            current = self.pq.pop()\n",
    "            self.visited.add(current.state) \n",
    "\n",
    "            if current.state == tuple(GOLD):\n",
    "                self.solution = current\n",
    "                return\n",
    "        \n",
    "            self.generate_successors(current)\n",
    "    \n",
    "    def generate_successors(self, current):\n",
    "        for i in range(2, self.length+1):\n",
    "            successor = current.flip(i)\n",
    "            \n",
    "            if successor.state in self.visited:\n",
    "                continue\n",
    "        \n",
    "            if not self.pq.has(successor.state):\n",
    "                self.pq.push(successor)\n",
    "            else:\n",
    "                possible_existing_stack = self.pq.get_node_with_state(successor.state)\n",
    "                if possible_existing_stack and (successor < possible_existing_stack):\n",
    "                    self.pq.push(successor)\n",
    "\n",
    "    def print_results(self):\n",
    "        results = []\n",
    "        \n",
    "        current = self.solution\n",
    "        while current.parent:\n",
    "            results.append(current.state)\n",
    "            current = current.parent\n",
    "        \n",
    "        for result in results[::-1]:\n",
    "            print (result)"
   ]
  },
  {
   "cell_type": "code",
   "execution_count": 11,
   "id": "2dc2826f",
   "metadata": {},
   "outputs": [
    {
     "data": {
      "text/plain": [
       "[8, 6, 7, 9, 3, 5, 2, 1, 10, 4]"
      ]
     },
     "execution_count": 11,
     "metadata": {},
     "output_type": "execute_result"
    }
   ],
   "source": [
    "astar = AStar(test_stack)\n",
    "test_stack"
   ]
  },
  {
   "cell_type": "code",
   "execution_count": 12,
   "id": "a15b1ab9",
   "metadata": {},
   "outputs": [],
   "source": [
    "astar.search()"
   ]
  },
  {
   "cell_type": "code",
   "execution_count": 13,
   "id": "2f1fbf32",
   "metadata": {},
   "outputs": [
    {
     "data": {
      "text/plain": [
       "(1, 2, 3, 4, 5, 6, 7, 8, 9, 10)"
      ]
     },
     "execution_count": 13,
     "metadata": {},
     "output_type": "execute_result"
    }
   ],
   "source": [
    "astar.solution.state"
   ]
  },
  {
   "cell_type": "code",
   "execution_count": 14,
   "id": "78d2efb4",
   "metadata": {},
   "outputs": [
    {
     "name": "stdout",
     "output_type": "stream",
     "text": [
      "(10, 1, 2, 5, 3, 9, 7, 6, 8, 4)\n",
      "(4, 8, 6, 7, 9, 3, 5, 2, 1, 10)\n",
      "(3, 9, 7, 6, 8, 4, 5, 2, 1, 10)\n",
      "(5, 4, 8, 6, 7, 9, 3, 2, 1, 10)\n",
      "(8, 4, 5, 6, 7, 9, 3, 2, 1, 10)\n",
      "(7, 6, 5, 4, 8, 9, 3, 2, 1, 10)\n",
      "(4, 5, 6, 7, 8, 9, 3, 2, 1, 10)\n",
      "(9, 8, 7, 6, 5, 4, 3, 2, 1, 10)\n",
      "(1, 2, 3, 4, 5, 6, 7, 8, 9, 10)\n"
     ]
    }
   ],
   "source": [
    "astar.print_results()"
   ]
  }
 ],
 "metadata": {
  "kernelspec": {
   "display_name": "Python 3",
   "language": "python",
   "name": "python3"
  },
  "language_info": {
   "codemirror_mode": {
    "name": "ipython",
    "version": 3
   },
   "file_extension": ".py",
   "mimetype": "text/x-python",
   "name": "python",
   "nbconvert_exporter": "python",
   "pygments_lexer": "ipython3",
   "version": "3.12.1"
  }
 },
 "nbformat": 4,
 "nbformat_minor": 5
}
