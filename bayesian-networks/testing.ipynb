{
 "cells": [
  {
   "cell_type": "code",
   "execution_count": 2,
   "id": "5ad4260f",
   "metadata": {},
   "outputs": [],
   "source": [
    "import numpy as np"
   ]
  },
  {
   "cell_type": "code",
   "execution_count": 3,
   "id": "c10a9dc4",
   "metadata": {},
   "outputs": [
    {
     "data": {
      "text/plain": [
       "(400, 400)"
      ]
     },
     "execution_count": 3,
     "metadata": {},
     "output_type": "execute_result"
    }
   ],
   "source": [
    "with open(\"likelihood.txt\", \"r\") as f:\n",
    "    bird_likelihood, aero_likelihood = f.readlines()\n",
    "\n",
    "bird_likelihood = np.array([float(datum) for datum in bird_likelihood.split()])\n",
    "aero_likelihood = np.array([float(datum) for datum in aero_likelihood.split()])\n",
    "len(bird_likelihood), len(aero_likelihood)"
   ]
  },
  {
   "cell_type": "code",
   "execution_count": 4,
   "id": "084edc10",
   "metadata": {},
   "outputs": [
    {
     "data": {
      "text/plain": [
       "(600, 600)"
      ]
     },
     "execution_count": 4,
     "metadata": {},
     "output_type": "execute_result"
    }
   ],
   "source": [
    "with open(\"dataset.txt\", \"r\") as f:\n",
    "    dataset = f.read()\n",
    "    \n",
    "dataset = np.array([[float(datum) for datum in row.split()] for row in dataset.strip().split(\"\\n\")])\n",
    "bird_velocities = dataset[:10]\n",
    "aero_velocities = dataset[10:]\n",
    "\n",
    "len(bird_velocities[0]), len(aero_velocities[-1])"
   ]
  },
  {
   "cell_type": "code",
   "execution_count": 5,
   "id": "f8a2c739",
   "metadata": {},
   "outputs": [
    {
     "data": {
      "text/plain": [
       "(600, 600)"
      ]
     },
     "execution_count": 5,
     "metadata": {},
     "output_type": "execute_result"
    }
   ],
   "source": [
    "with open(\"testing.txt\", \"r\") as f:\n",
    "    testing = f.read()\n",
    "\n",
    "testing = np.array([[float(datum) for datum in row.split()] for row in testing.strip().split(\"\\n\")])\n",
    "bird_test = testing[:5]\n",
    "aero_test = testing[5:]\n",
    "\n",
    "len(bird_test[0]), len(aero_test[0])"
   ]
  },
  {
   "cell_type": "code",
   "execution_count": 6,
   "id": "118629b5",
   "metadata": {},
   "outputs": [],
   "source": [
    "# P(speed | b): probability of observing a bird's speed\n",
    "# P(speed | a): probability of observing a airplane's speed\n",
    "\n",
    "# P(a_t+1 | a_t) = .9; P(b_t+1 | b_t) = .9\n",
    "# P(a_t+1 | b_t) = .1; P(b_t+1 | a_t) = .1\n",
    "\n",
    "# P(a) = .5\n",
    "# P(b) = .5"
   ]
  },
  {
   "cell_type": "code",
   "execution_count": 7,
   "id": "fc2711ee",
   "metadata": {},
   "outputs": [],
   "source": [
    "# for a single obs\n",
    "min_speed = np.min(bird_velocities[0])\n",
    "max_speed = np.max(bird_velocities[0])\n",
    "normalized_speeds = (bird_velocities[0] - min_speed)/(max_speed - min_speed)\n",
    "\n",
    "indices = (normalized_speeds * (len(bird_likelihood)-1)).astype(int)\n",
    "first_row_likelihoods = bird_likelihood[indices]"
   ]
  },
  {
   "cell_type": "code",
   "execution_count": 8,
   "id": "15a4cae7",
   "metadata": {},
   "outputs": [],
   "source": [
    "def speed2likelihood(speeds, bird=True):\n",
    "    min_speed = np.min(speeds)\n",
    "    max_speed = np.max(speeds)\n",
    "    normalized_speeds = (speeds - min_speed)/(max_speed - min_speed)\n",
    "\n",
    "    indices = (normalized_speeds * (len(bird_likelihood)-1)).astype(int)\n",
    "    if bird:\n",
    "        return bird_likelihood[indices]\n",
    "    else:\n",
    "        return aero_likelihood[indices]"
   ]
  },
  {
   "cell_type": "code",
   "execution_count": 10,
   "id": "c1a339d4",
   "metadata": {},
   "outputs": [],
   "source": [
    "test_bird_row = bird_velocities[0]\n",
    "test_aero_row = aero_velocities[0]\n",
    "test_row_bird_likelihoods = speed2likelihood(test_bird_row)\n",
    "test_row_aero_likelihoods = speed2likelihood(test_aero_row, bird=False)"
   ]
  },
  {
   "cell_type": "code",
   "execution_count": 11,
   "id": "7701ad79",
   "metadata": {},
   "outputs": [],
   "source": [
    "i = 0\n",
    "\n",
    "# observed likelihoods\n",
    "obs_likelihood_bird = test_row_bird_likelihoods[i]\n",
    "obs_likelihood_aero = test_row_aero_likelihoods[i]\n",
    "\n",
    "# priors\n",
    "prob_bird = .5\n",
    "prob_aero = .5"
   ]
  },
  {
   "cell_type": "code",
   "execution_count": 12,
   "id": "10ed8fab",
   "metadata": {},
   "outputs": [],
   "source": [
    "# posterior update\n",
    "# p(b /\\ speed) = p(speed | b) * p(b)\n",
    "# p(a /\\ speed) = p(speed | a) * p(a)\n",
    "\n",
    "bird_post_update = obs_likelihood_bird * prob_bird\n",
    "aero_post_update = obs_likelihood_aero * prob_aero\n",
    "\n",
    "# normalization\n",
    "bird_normed = bird_post_update/(bird_post_update + aero_post_update)\n",
    "aero_normed = aero_post_update/(bird_post_update + aero_post_update)"
   ]
  },
  {
   "cell_type": "code",
   "execution_count": 15,
   "id": "4195ec44",
   "metadata": {},
   "outputs": [
    {
     "data": {
      "text/plain": [
       "(np.float64(0.1446220069749718), np.float64(0.8553779930250281))"
      ]
     },
     "execution_count": 15,
     "metadata": {},
     "output_type": "execute_result"
    }
   ],
   "source": [
    "bird_normed, aero_normed"
   ]
  },
  {
   "cell_type": "code",
   "execution_count": null,
   "id": "49fb0ea4",
   "metadata": {},
   "outputs": [],
   "source": []
  }
 ],
 "metadata": {
  "kernelspec": {
   "display_name": "Python 3",
   "language": "python",
   "name": "python3"
  },
  "language_info": {
   "codemirror_mode": {
    "name": "ipython",
    "version": 3
   },
   "file_extension": ".py",
   "mimetype": "text/x-python",
   "name": "python",
   "nbconvert_exporter": "python",
   "pygments_lexer": "ipython3",
   "version": "3.12.1"
  }
 },
 "nbformat": 4,
 "nbformat_minor": 5
}
