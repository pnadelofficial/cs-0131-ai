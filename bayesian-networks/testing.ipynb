{
 "cells": [
  {
   "cell_type": "code",
   "execution_count": 1,
   "id": "5ad4260f",
   "metadata": {},
   "outputs": [],
   "source": [
    "import numpy as np"
   ]
  },
  {
   "cell_type": "code",
   "execution_count": 2,
   "id": "c10a9dc4",
   "metadata": {},
   "outputs": [
    {
     "data": {
      "text/plain": [
       "(400, 400)"
      ]
     },
     "execution_count": 2,
     "metadata": {},
     "output_type": "execute_result"
    }
   ],
   "source": [
    "with open(\"likelihood.txt\", \"r\") as f:\n",
    "    bird_likelihood, aero_likelihood = f.readlines()\n",
    "\n",
    "bird_likelihood = np.array([float(datum) for datum in bird_likelihood.split()])\n",
    "aero_likelihood = np.array([float(datum) for datum in aero_likelihood.split()])\n",
    "len(bird_likelihood), len(aero_likelihood)"
   ]
  },
  {
   "cell_type": "code",
   "execution_count": 3,
   "id": "084edc10",
   "metadata": {},
   "outputs": [
    {
     "data": {
      "text/plain": [
       "(600, 600)"
      ]
     },
     "execution_count": 3,
     "metadata": {},
     "output_type": "execute_result"
    }
   ],
   "source": [
    "with open(\"dataset.txt\", \"r\") as f:\n",
    "    dataset = f.read()\n",
    "    \n",
    "dataset = np.array([[float(datum) for datum in row.split()] for row in dataset.strip().split(\"\\n\")])\n",
    "bird_velocities = dataset[:10]\n",
    "aero_velocities = dataset[10:]\n",
    "\n",
    "len(bird_velocities[0]), len(aero_velocities[-1])"
   ]
  },
  {
   "cell_type": "code",
   "execution_count": 4,
   "id": "f8a2c739",
   "metadata": {},
   "outputs": [
    {
     "data": {
      "text/plain": [
       "(600, 600)"
      ]
     },
     "execution_count": 4,
     "metadata": {},
     "output_type": "execute_result"
    }
   ],
   "source": [
    "with open(\"testing.txt\", \"r\") as f:\n",
    "    testing = f.read()\n",
    "\n",
    "testing = np.array([[float(datum) for datum in row.split()] for row in testing.strip().split(\"\\n\")])\n",
    "bird_test = testing[:5]\n",
    "aero_test = testing[5:]\n",
    "\n",
    "len(bird_test[0]), len(aero_test[0])"
   ]
  },
  {
   "cell_type": "code",
   "execution_count": 5,
   "id": "118629b5",
   "metadata": {},
   "outputs": [],
   "source": [
    "# P(speed | b): probability of observing a bird's speed\n",
    "# P(speed | a): probability of observing a airplane's speed\n",
    "\n",
    "# P(a_t+1 | a_t) = .9; P(b_t+1 | b_t) = .9\n",
    "# P(a_t+1 | b_t) = .1; P(b_t+1 | a_t) = .1\n",
    "\n",
    "# P(a) = .5\n",
    "# P(b) = .5"
   ]
  },
  {
   "cell_type": "code",
   "execution_count": 6,
   "id": "fc2711ee",
   "metadata": {},
   "outputs": [],
   "source": [
    "# for a single obs\n",
    "min_speed = np.min(bird_velocities[0])\n",
    "max_speed = np.max(bird_velocities[0])\n",
    "normalized_speeds = (bird_velocities[0] - min_speed)/(max_speed - min_speed)\n",
    "\n",
    "indices = (normalized_speeds * (len(bird_likelihood)-1)).astype(int)\n",
    "first_row_likelihoods = bird_likelihood[indices]"
   ]
  },
  {
   "cell_type": "code",
   "execution_count": 7,
   "id": "15a4cae7",
   "metadata": {},
   "outputs": [],
   "source": [
    "def speed2likelihood(speeds, bird=True):\n",
    "    indices = (speeds * 2).astype(int)\n",
    "    max_likelihood_index = len(bird_likelihood) - 1\n",
    "    indices = np.clip(indices, 0, max_likelihood_index)\n",
    "\n",
    "    if bird:\n",
    "        return bird_likelihood[indices]\n",
    "    else:\n",
    "        return aero_likelihood[indices]"
   ]
  },
  {
   "cell_type": "code",
   "execution_count": 8,
   "id": "c1a339d4",
   "metadata": {},
   "outputs": [],
   "source": [
    "test_bird_row = bird_velocities[0]\n",
    "test_aero_row = aero_velocities[0]\n",
    "test_row_bird_likelihoods = speed2likelihood(test_bird_row)\n",
    "test_row_aero_likelihoods = speed2likelihood(test_aero_row, bird=False)"
   ]
  },
  {
   "cell_type": "code",
   "execution_count": 9,
   "id": "7701ad79",
   "metadata": {},
   "outputs": [],
   "source": [
    "i = 0\n",
    "\n",
    "# observed likelihoods\n",
    "obs_likelihood_bird = test_row_bird_likelihoods[i]\n",
    "obs_likelihood_aero = test_row_aero_likelihoods[i]\n",
    "\n",
    "# priors\n",
    "prob_bird = .5\n",
    "prob_aero = .5"
   ]
  },
  {
   "cell_type": "code",
   "execution_count": 10,
   "id": "10ed8fab",
   "metadata": {},
   "outputs": [],
   "source": [
    "# posterior update\n",
    "# p(b /\\ speed) = p(speed | b) * p(b)\n",
    "# p(a /\\ speed) = p(speed | a) * p(a)\n",
    "\n",
    "bird_post_update = obs_likelihood_bird * prob_bird\n",
    "aero_post_update = obs_likelihood_aero * prob_aero\n",
    "\n",
    "# normalization\n",
    "bird_normed = bird_post_update/(bird_post_update + aero_post_update)\n",
    "aero_normed = aero_post_update/(bird_post_update + aero_post_update)"
   ]
  },
  {
   "cell_type": "code",
   "execution_count": 11,
   "id": "4195ec44",
   "metadata": {},
   "outputs": [
    {
     "data": {
      "text/plain": [
       "(np.float64(0.9030574638043971), np.float64(0.09694253619560289))"
      ]
     },
     "execution_count": 11,
     "metadata": {},
     "output_type": "execute_result"
    }
   ],
   "source": [
    "bird_normed, aero_normed"
   ]
  },
  {
   "cell_type": "code",
   "execution_count": 12,
   "id": "49fb0ea4",
   "metadata": {},
   "outputs": [],
   "source": [
    "# iteration 2\n",
    "i = 1\n",
    "\n",
    "# observed likelihoods\n",
    "obs_likelihood_bird = test_row_bird_likelihoods[i]\n",
    "obs_likelihood_aero = test_row_aero_likelihoods[i]\n",
    "\n",
    "# transition probabilities\n",
    "prob_bird = bird_normed * .9 + aero_normed * .1\n",
    "prob_aero = aero_normed * .9 + bird_normed * .1"
   ]
  },
  {
   "cell_type": "code",
   "execution_count": 13,
   "id": "506254e6",
   "metadata": {},
   "outputs": [],
   "source": [
    "bird_post_update = obs_likelihood_bird * prob_bird\n",
    "aero_post_update = obs_likelihood_aero * prob_aero\n",
    "\n",
    "bird_normed = bird_post_update/(bird_post_update + aero_post_update)\n",
    "aero_normed = aero_post_update/(bird_post_update + aero_post_update)"
   ]
  },
  {
   "cell_type": "code",
   "execution_count": 14,
   "id": "134ab7e3",
   "metadata": {},
   "outputs": [
    {
     "data": {
      "text/plain": [
       "(np.float64(0.9564670147962513), np.float64(0.043532985203748695))"
      ]
     },
     "execution_count": 14,
     "metadata": {},
     "output_type": "execute_result"
    }
   ],
   "source": [
    "bird_normed, aero_normed"
   ]
  },
  {
   "cell_type": "code",
   "execution_count": 27,
   "id": "09bee0d9",
   "metadata": {},
   "outputs": [
    {
     "name": "stdout",
     "output_type": "stream",
     "text": [
      "0\n",
      "1\n",
      "2\n",
      "3\n",
      "4\n",
      "5\n",
      "6\n",
      "7\n",
      "8\n",
      "9\n"
     ]
    },
    {
     "name": "stderr",
     "output_type": "stream",
     "text": [
      "/tmp/ipykernel_10321/154105515.py:2: RuntimeWarning: invalid value encountered in cast\n",
      "  indices = (speeds * 2).astype(int)\n"
     ]
    }
   ],
   "source": [
    "prob_bird = .5\n",
    "prob_aero = .5\n",
    "\n",
    "for j in range(len(bird_velocities)):\n",
    "    print(j)\n",
    "    bird_row = bird_velocities[j]\n",
    "    aero_row = aero_velocities[j]\n",
    "\n",
    "    row_bird_likelihoods = speed2likelihood(bird_row)\n",
    "    row_aero_likelihoods = speed2likelihood(aero_row, bird=False)\n",
    "\n",
    "    for i in range(len(row_bird_likelihoods)):\n",
    "        obs_likelihood_bird = row_bird_likelihoods[i]\n",
    "        obs_likelihood_aero = row_aero_likelihoods[i]\n",
    "\n",
    "        if not obs_likelihood_aero:\n",
    "            continue\n",
    "        if not obs_likelihood_bird:\n",
    "            continue\n",
    "\n",
    "        if i != 0:\n",
    "            prob_bird = bird_normed * .9 + aero_normed * .1\n",
    "            prob_aero = aero_normed * .9 + bird_normed * .1\n",
    "\n",
    "        bird_post_update = obs_likelihood_bird * prob_bird\n",
    "        aero_post_update = obs_likelihood_aero * prob_aero\n",
    "\n",
    "        total = bird_post_update + aero_post_update\n",
    "        if total > 0:\n",
    "            bird_normed = bird_post_update/total\n",
    "            aero_normed = aero_post_update/total"
   ]
  },
  {
   "cell_type": "code",
   "execution_count": 28,
   "id": "106ac55c",
   "metadata": {},
   "outputs": [
    {
     "data": {
      "text/plain": [
       "(np.float64(0.8088557341316833), np.float64(0.1911442658683167))"
      ]
     },
     "execution_count": 28,
     "metadata": {},
     "output_type": "execute_result"
    }
   ],
   "source": [
    "bird_normed, aero_normed"
   ]
  },
  {
   "cell_type": "code",
   "execution_count": 44,
   "id": "05cbd638",
   "metadata": {},
   "outputs": [
    {
     "data": {
      "text/plain": [
       "(600,)"
      ]
     },
     "execution_count": 44,
     "metadata": {},
     "output_type": "execute_result"
    }
   ],
   "source": [
    "bird_test[0].shape"
   ]
  },
  {
   "cell_type": "code",
   "execution_count": 47,
   "id": "3fee70bb",
   "metadata": {},
   "outputs": [
    {
     "name": "stderr",
     "output_type": "stream",
     "text": [
      "/tmp/ipykernel_10321/154105515.py:2: RuntimeWarning: invalid value encountered in cast\n",
      "  indices = (speeds * 2).astype(int)\n"
     ]
    }
   ],
   "source": [
    "prob_bird = .5\n",
    "prob_aero = .5\n",
    "\n",
    "test_sequence = aero_test[1]\n",
    "\n",
    "predictions = []\n",
    "bird_probs = []\n",
    "\n",
    "bird_likelihoods = speed2likelihood(test_sequence)\n",
    "aero_likelihoods = speed2likelihood(test_sequence, bird=False)\n",
    "\n",
    "for i in range(len(test_sequence)):\n",
    "    obs_likelihood_bird = bird_likelihoods[i]\n",
    "    obs_likelihood_aero = aero_likelihoods[i]\n",
    "\n",
    "    if (np.nan_to_num(obs_likelihood_aero, nan=0) == 0) or (np.nan_to_num(obs_likelihood_bird, nan=0) == 0):\n",
    "        if len(predictions) > 0:\n",
    "            predictions.append(predictions[-1])\n",
    "            bird_probs.append(bird_probs[-1])\n",
    "        else:\n",
    "            predictions.append(1 if prob_bird > .5 else 0)\n",
    "            bird_probs.append(prob_bird)\n",
    "        continue\n",
    "\n",
    "    if i != 0:\n",
    "        prob_bird = bird_normed * .9 + aero_normed * .1\n",
    "        prob_aero = aero_normed * .9 + bird_normed * .1\n",
    "\n",
    "    bird_post_update = obs_likelihood_bird * prob_bird\n",
    "    aero_post_update = obs_likelihood_aero * prob_aero\n",
    "    \n",
    "    total = bird_post_update + aero_post_update\n",
    "    if total > 0:\n",
    "        bird_normed = bird_post_update/total\n",
    "        aero_normed = aero_post_update/total \n",
    "    else:\n",
    "        bird_normed = prob_bird\n",
    "        aero_normed = prob_aero\n",
    "\n",
    "    prediction = 1 if bird_normed > aero_normed else 0\n",
    "    predictions.append(prediction)\n",
    "    bird_probs.append(bird_normed)  "
   ]
  },
  {
   "cell_type": "code",
   "execution_count": 48,
   "id": "daf8e1da",
   "metadata": {},
   "outputs": [
    {
     "data": {
      "text/plain": [
       "array([0, 0, 0, 0, 0, 0, 0, 0, 0, 0, 0, 0, 0, 0, 0, 0, 0, 0, 0, 0, 0, 0,\n",
       "       0, 0, 0, 0, 0, 0, 0, 0, 0, 0, 0, 0, 0, 0, 0, 0, 0, 0, 0, 0, 0, 0,\n",
       "       0, 0, 0, 0, 0, 0, 0, 0, 0, 0, 0, 0, 0, 0, 0, 0, 0, 0, 0, 0, 0, 0,\n",
       "       0, 0, 0, 0, 0, 0, 0, 0, 0, 0, 0, 0, 0, 0, 0, 0, 0, 0, 0, 0, 0, 0,\n",
       "       0, 0, 0, 0, 0, 0, 0, 0, 0, 0, 0, 0, 0, 0, 0, 0, 0, 0, 0, 0, 0, 0,\n",
       "       0, 0, 0, 0, 0, 0, 0, 0, 0, 0, 0, 0, 0, 0, 0, 0, 0, 0, 0, 0, 0, 0,\n",
       "       0, 0, 0, 0, 0, 0, 0, 0, 0, 0, 0, 0, 0, 0, 0, 0, 0, 0, 0, 0, 0, 0,\n",
       "       0, 0, 0, 0, 0, 0, 0, 0, 0, 0, 0, 0, 0, 0, 0, 0, 0, 0, 0, 0, 0, 0,\n",
       "       0, 0, 0, 0, 0, 0, 0, 0, 0, 0, 0, 0, 0, 0, 0, 0, 0, 0, 0, 0, 0, 0,\n",
       "       0, 0, 0, 0, 0, 0, 0, 0, 0, 0, 0, 0, 0, 0, 0, 0, 0, 0, 0, 0, 0, 0,\n",
       "       0, 0, 0, 0, 0, 0, 0, 0, 0, 0, 0, 0, 0, 0, 0, 0, 0, 0, 0, 0, 0, 0,\n",
       "       0, 0, 0, 0, 0, 0, 0, 0, 0, 0, 0, 0, 0, 0, 0, 0, 0, 0, 0, 0, 0, 0,\n",
       "       0, 0, 0, 0, 0, 0, 0, 0, 0, 0, 0, 0, 0, 0, 0, 0, 0, 0, 0, 0, 0, 0,\n",
       "       0, 0, 0, 0, 0, 0, 0, 0, 0, 0, 0, 0, 0, 0, 0, 0, 0, 0, 0, 0, 0, 0,\n",
       "       0, 0, 0, 0, 0, 0, 0, 0, 0, 0, 0, 0, 0, 0, 0, 0, 0, 0, 0, 0, 0, 0,\n",
       "       0, 0, 0, 0, 0, 0, 0, 0, 0, 0, 0, 0, 0, 0, 0, 0, 0, 0, 0, 0, 0, 0,\n",
       "       0, 0, 0, 0, 0, 0, 0, 0, 0, 0, 0, 0, 0, 0, 0, 0, 0, 0, 0, 0, 0, 0,\n",
       "       0, 0, 0, 0, 0, 0, 0, 0, 0, 0, 0, 0, 0, 0, 0, 0, 0, 0, 0, 0, 0, 0,\n",
       "       0, 0, 0, 0, 0, 0, 0, 0, 0, 0, 0, 0, 0, 0, 0, 0, 0, 0, 0, 0, 0, 0,\n",
       "       0, 0, 0, 0, 0, 0, 0, 0, 0, 0, 0, 0, 0, 0, 0, 0, 0, 0, 0, 0, 0, 0,\n",
       "       0, 0, 0, 0, 0, 0, 0, 0, 0, 0, 0, 0, 0, 0, 0, 0, 0, 0, 0, 0, 0, 0,\n",
       "       0, 0, 0, 0, 0, 0, 0, 0, 0, 0, 0, 0, 0, 0, 0, 0, 0, 0, 0, 0, 0, 0,\n",
       "       0, 0, 0, 0, 0, 0, 0, 0, 0, 0, 0, 0, 0, 0, 0, 0, 0, 0, 0, 0, 0, 0,\n",
       "       0, 0, 0, 0, 0, 0, 0, 0, 0, 0, 0, 0, 0, 0, 0, 0, 0, 0, 0, 0, 0, 0,\n",
       "       0, 0, 0, 0, 0, 0, 0, 0, 0, 0, 0, 0, 0, 0, 0, 0, 0, 0, 0, 0, 0, 0,\n",
       "       0, 0, 0, 0, 0, 0, 0, 0, 0, 0, 0, 0, 0, 0, 0, 0, 0, 0, 0, 0, 0, 0,\n",
       "       0, 0, 0, 0, 0, 0, 0, 0, 0, 0, 0, 0, 0, 0, 0, 0, 0, 0, 0, 0, 0, 0,\n",
       "       0, 0, 0, 0, 0, 0])"
      ]
     },
     "execution_count": 48,
     "metadata": {},
     "output_type": "execute_result"
    }
   ],
   "source": [
    "np.array(predictions)"
   ]
  },
  {
   "cell_type": "code",
   "execution_count": null,
   "id": "c62daebc",
   "metadata": {},
   "outputs": [],
   "source": []
  }
 ],
 "metadata": {
  "kernelspec": {
   "display_name": "Python 3",
   "language": "python",
   "name": "python3"
  },
  "language_info": {
   "codemirror_mode": {
    "name": "ipython",
    "version": 3
   },
   "file_extension": ".py",
   "mimetype": "text/x-python",
   "name": "python",
   "nbconvert_exporter": "python",
   "pygments_lexer": "ipython3",
   "version": "3.12.1"
  }
 },
 "nbformat": 4,
 "nbformat_minor": 5
}
