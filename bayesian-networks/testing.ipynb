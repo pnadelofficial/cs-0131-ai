{
 "cells": [
  {
   "cell_type": "code",
   "execution_count": 1,
   "id": "5ad4260f",
   "metadata": {},
   "outputs": [],
   "source": [
    "import numpy as np"
   ]
  },
  {
   "cell_type": "code",
   "execution_count": 2,
   "id": "c10a9dc4",
   "metadata": {},
   "outputs": [
    {
     "data": {
      "text/plain": [
       "(400, 400)"
      ]
     },
     "execution_count": 2,
     "metadata": {},
     "output_type": "execute_result"
    }
   ],
   "source": [
    "with open(\"likelihood.txt\", \"r\") as f:\n",
    "    bird_likelihood, aero_likelihood = f.readlines()\n",
    "\n",
    "bird_likelihood = np.array([float(datum) for datum in bird_likelihood.split()])\n",
    "aero_likelihood = np.array([float(datum) for datum in aero_likelihood.split()])\n",
    "len(bird_likelihood), len(aero_likelihood)"
   ]
  },
  {
   "cell_type": "code",
   "execution_count": 3,
   "id": "084edc10",
   "metadata": {},
   "outputs": [
    {
     "data": {
      "text/plain": [
       "(600, 600)"
      ]
     },
     "execution_count": 3,
     "metadata": {},
     "output_type": "execute_result"
    }
   ],
   "source": [
    "with open(\"dataset.txt\", \"r\") as f:\n",
    "    dataset = f.read()\n",
    "    \n",
    "dataset = np.array([[float(datum) for datum in row.split()] for row in dataset.strip().split(\"\\n\")])\n",
    "bird_velocities = dataset[:10]\n",
    "aero_velocities = dataset[10:]\n",
    "\n",
    "len(bird_velocities[0]), len(aero_velocities[-1])"
   ]
  },
  {
   "cell_type": "code",
   "execution_count": 4,
   "id": "ed28b4d3",
   "metadata": {},
   "outputs": [
    {
     "data": {
      "text/plain": [
       "(10, 600)"
      ]
     },
     "execution_count": 4,
     "metadata": {},
     "output_type": "execute_result"
    }
   ],
   "source": [
    "bird_velocities.shape"
   ]
  },
  {
   "cell_type": "code",
   "execution_count": 5,
   "id": "f8a2c739",
   "metadata": {},
   "outputs": [
    {
     "data": {
      "text/plain": [
       "(600, 600)"
      ]
     },
     "execution_count": 5,
     "metadata": {},
     "output_type": "execute_result"
    }
   ],
   "source": [
    "with open(\"testing.txt\", \"r\") as f:\n",
    "    testing = f.read()\n",
    "\n",
    "testing = np.array([[float(datum) for datum in row.split()] for row in testing.strip().split(\"\\n\")])\n",
    "bird_test = testing[:5]\n",
    "aero_test = testing[5:]\n",
    "\n",
    "len(bird_test[0]), len(aero_test[0])"
   ]
  },
  {
   "cell_type": "code",
   "execution_count": 5,
   "id": "118629b5",
   "metadata": {},
   "outputs": [],
   "source": [
    "# P(speed | b): probability of observing a bird's speed\n",
    "# P(speed | a): probability of observing a airplane's speed\n",
    "\n",
    "# P(a_t+1 | a_t) = .9; P(b_t+1 | b_t) = .9\n",
    "# P(a_t+1 | b_t) = .1; P(b_t+1 | a_t) = .1\n",
    "\n",
    "# P(a) = .5\n",
    "# P(b) = .5"
   ]
  },
  {
   "cell_type": "code",
   "execution_count": 6,
   "id": "fc2711ee",
   "metadata": {},
   "outputs": [],
   "source": [
    "# for a single obs\n",
    "min_speed = np.min(bird_velocities[0])\n",
    "max_speed = np.max(bird_velocities[0])\n",
    "normalized_speeds = (bird_velocities[0] - min_speed)/(max_speed - min_speed)\n",
    "\n",
    "indices = (normalized_speeds * (len(bird_likelihood)-1)).astype(int)\n",
    "first_row_likelihoods = bird_likelihood[indices]"
   ]
  },
  {
   "cell_type": "code",
   "execution_count": 7,
   "id": "15a4cae7",
   "metadata": {},
   "outputs": [],
   "source": [
    "def speed2likelihood(speeds, bird=True):\n",
    "    indices = (speeds * 2).astype(int)\n",
    "    max_likelihood_index = len(bird_likelihood) - 1\n",
    "    indices = np.clip(indices, 0, max_likelihood_index)\n",
    "\n",
    "    if bird:\n",
    "        return bird_likelihood[indices]\n",
    "    else:\n",
    "        return aero_likelihood[indices]"
   ]
  },
  {
   "cell_type": "code",
   "execution_count": 8,
   "id": "c1a339d4",
   "metadata": {},
   "outputs": [],
   "source": [
    "test_bird_row = bird_velocities[0]\n",
    "test_aero_row = aero_velocities[0]\n",
    "test_row_bird_likelihoods = speed2likelihood(test_bird_row)\n",
    "test_row_aero_likelihoods = speed2likelihood(test_aero_row, bird=False)"
   ]
  },
  {
   "cell_type": "code",
   "execution_count": 9,
   "id": "7701ad79",
   "metadata": {},
   "outputs": [],
   "source": [
    "i = 0\n",
    "\n",
    "# observed likelihoods\n",
    "obs_likelihood_bird = test_row_bird_likelihoods[i]\n",
    "obs_likelihood_aero = test_row_aero_likelihoods[i]\n",
    "\n",
    "# priors\n",
    "prob_bird = .5\n",
    "prob_aero = .5"
   ]
  },
  {
   "cell_type": "code",
   "execution_count": 10,
   "id": "10ed8fab",
   "metadata": {},
   "outputs": [],
   "source": [
    "# posterior update\n",
    "# p(b /\\ speed) = p(speed | b) * p(b)\n",
    "# p(a /\\ speed) = p(speed | a) * p(a)\n",
    "\n",
    "bird_post_update = obs_likelihood_bird * prob_bird\n",
    "aero_post_update = obs_likelihood_aero * prob_aero\n",
    "\n",
    "# normalization\n",
    "bird_normed = bird_post_update/(bird_post_update + aero_post_update)\n",
    "aero_normed = aero_post_update/(bird_post_update + aero_post_update)"
   ]
  },
  {
   "cell_type": "code",
   "execution_count": 11,
   "id": "4195ec44",
   "metadata": {},
   "outputs": [
    {
     "data": {
      "text/plain": [
       "(np.float64(0.9030574638043971), np.float64(0.09694253619560289))"
      ]
     },
     "execution_count": 11,
     "metadata": {},
     "output_type": "execute_result"
    }
   ],
   "source": [
    "bird_normed, aero_normed"
   ]
  },
  {
   "cell_type": "code",
   "execution_count": 12,
   "id": "49fb0ea4",
   "metadata": {},
   "outputs": [],
   "source": [
    "# iteration 2\n",
    "i = 1\n",
    "\n",
    "# observed likelihoods\n",
    "obs_likelihood_bird = test_row_bird_likelihoods[i]\n",
    "obs_likelihood_aero = test_row_aero_likelihoods[i]\n",
    "\n",
    "# transition probabilities\n",
    "prob_bird = bird_normed * .9 + aero_normed * .1\n",
    "prob_aero = aero_normed * .9 + bird_normed * .1"
   ]
  },
  {
   "cell_type": "code",
   "execution_count": 13,
   "id": "506254e6",
   "metadata": {},
   "outputs": [],
   "source": [
    "bird_post_update = obs_likelihood_bird * prob_bird\n",
    "aero_post_update = obs_likelihood_aero * prob_aero\n",
    "\n",
    "bird_normed = bird_post_update/(bird_post_update + aero_post_update)\n",
    "aero_normed = aero_post_update/(bird_post_update + aero_post_update)"
   ]
  },
  {
   "cell_type": "code",
   "execution_count": 14,
   "id": "134ab7e3",
   "metadata": {},
   "outputs": [
    {
     "data": {
      "text/plain": [
       "(np.float64(0.9564670147962513), np.float64(0.043532985203748695))"
      ]
     },
     "execution_count": 14,
     "metadata": {},
     "output_type": "execute_result"
    }
   ],
   "source": [
    "bird_normed, aero_normed"
   ]
  },
  {
   "cell_type": "code",
   "execution_count": 15,
   "id": "09bee0d9",
   "metadata": {},
   "outputs": [
    {
     "name": "stdout",
     "output_type": "stream",
     "text": [
      "0\n",
      "1\n",
      "2\n",
      "3\n",
      "4\n",
      "5\n",
      "6\n",
      "7\n",
      "8\n",
      "9\n"
     ]
    },
    {
     "name": "stderr",
     "output_type": "stream",
     "text": [
      "/tmp/ipykernel_1956/154105515.py:2: RuntimeWarning: invalid value encountered in cast\n",
      "  indices = (speeds * 2).astype(int)\n"
     ]
    }
   ],
   "source": [
    "prob_bird = .5\n",
    "prob_aero = .5\n",
    "\n",
    "for j in range(len(bird_velocities)):\n",
    "    print(j)\n",
    "    bird_row = bird_velocities[j]\n",
    "    aero_row = aero_velocities[j]\n",
    "\n",
    "    row_bird_likelihoods = speed2likelihood(bird_row)\n",
    "    row_aero_likelihoods = speed2likelihood(aero_row, bird=False)\n",
    "\n",
    "    for i in range(len(row_bird_likelihoods)):\n",
    "        obs_likelihood_bird = row_bird_likelihoods[i]\n",
    "        obs_likelihood_aero = row_aero_likelihoods[i]\n",
    "\n",
    "        if not obs_likelihood_aero:\n",
    "            continue\n",
    "        if not obs_likelihood_bird:\n",
    "            continue\n",
    "\n",
    "        if i != 0:\n",
    "            prob_bird = bird_normed * .9 + aero_normed * .1\n",
    "            prob_aero = aero_normed * .9 + bird_normed * .1\n",
    "\n",
    "        bird_post_update = obs_likelihood_bird * prob_bird\n",
    "        aero_post_update = obs_likelihood_aero * prob_aero\n",
    "\n",
    "        total = bird_post_update + aero_post_update\n",
    "        if total > 0:\n",
    "            bird_normed = bird_post_update/total\n",
    "            aero_normed = aero_post_update/total"
   ]
  },
  {
   "cell_type": "code",
   "execution_count": 16,
   "id": "106ac55c",
   "metadata": {},
   "outputs": [
    {
     "data": {
      "text/plain": [
       "(np.float64(0.8088557341316833), np.float64(0.1911442658683167))"
      ]
     },
     "execution_count": 16,
     "metadata": {},
     "output_type": "execute_result"
    }
   ],
   "source": [
    "bird_normed, aero_normed"
   ]
  },
  {
   "cell_type": "code",
   "execution_count": 17,
   "id": "05cbd638",
   "metadata": {},
   "outputs": [
    {
     "data": {
      "text/plain": [
       "(600,)"
      ]
     },
     "execution_count": 17,
     "metadata": {},
     "output_type": "execute_result"
    }
   ],
   "source": [
    "bird_test[0].shape"
   ]
  },
  {
   "cell_type": "code",
   "execution_count": 18,
   "id": "3fee70bb",
   "metadata": {},
   "outputs": [
    {
     "name": "stderr",
     "output_type": "stream",
     "text": [
      "/tmp/ipykernel_1956/154105515.py:2: RuntimeWarning: invalid value encountered in cast\n",
      "  indices = (speeds * 2).astype(int)\n"
     ]
    }
   ],
   "source": [
    "prob_bird = .5\n",
    "prob_aero = .5\n",
    "\n",
    "test_sequence = aero_test[1]\n",
    "\n",
    "predictions = []\n",
    "bird_probs = []\n",
    "\n",
    "bird_likelihoods = speed2likelihood(test_sequence)\n",
    "aero_likelihoods = speed2likelihood(test_sequence, bird=False)\n",
    "\n",
    "for i in range(len(test_sequence)):\n",
    "    obs_likelihood_bird = bird_likelihoods[i]\n",
    "    obs_likelihood_aero = aero_likelihoods[i]\n",
    "\n",
    "    if (np.nan_to_num(obs_likelihood_aero, nan=0) == 0) or (np.nan_to_num(obs_likelihood_bird, nan=0) == 0):\n",
    "        if len(predictions) > 0:\n",
    "            predictions.append(predictions[-1])\n",
    "            bird_probs.append(bird_probs[-1])\n",
    "        else:\n",
    "            predictions.append(1 if prob_bird > .5 else 0)\n",
    "            bird_probs.append(prob_bird)\n",
    "        continue\n",
    "\n",
    "    if i != 0:\n",
    "        prob_bird = bird_normed * .9 + aero_normed * .1\n",
    "        prob_aero = aero_normed * .9 + bird_normed * .1\n",
    "\n",
    "    bird_post_update = obs_likelihood_bird * prob_bird\n",
    "    aero_post_update = obs_likelihood_aero * prob_aero\n",
    "    \n",
    "    total = bird_post_update + aero_post_update\n",
    "    if total > 0:\n",
    "        bird_normed = bird_post_update/total\n",
    "        aero_normed = aero_post_update/total \n",
    "    else:\n",
    "        bird_normed = prob_bird\n",
    "        aero_normed = prob_aero\n",
    "\n",
    "    prediction = 1 if bird_normed > aero_normed else 0\n",
    "    predictions.append(prediction)\n",
    "    bird_probs.append(bird_normed)  "
   ]
  },
  {
   "cell_type": "code",
   "execution_count": 19,
   "id": "daf8e1da",
   "metadata": {},
   "outputs": [
    {
     "data": {
      "text/plain": [
       "array([0, 0, 0, 0, 0, 0, 0, 0, 0, 0, 0, 0, 0, 0, 0, 0, 0, 0, 0, 0, 0, 0,\n",
       "       0, 0, 0, 0, 0, 0, 0, 0, 0, 0, 0, 0, 0, 0, 0, 0, 0, 0, 0, 0, 0, 0,\n",
       "       0, 0, 0, 0, 0, 0, 0, 0, 0, 0, 0, 0, 0, 0, 0, 0, 0, 0, 0, 0, 0, 0,\n",
       "       0, 0, 0, 0, 0, 0, 0, 0, 0, 0, 0, 0, 0, 0, 0, 0, 0, 0, 0, 0, 0, 0,\n",
       "       0, 0, 0, 0, 0, 0, 0, 0, 0, 0, 0, 0, 0, 0, 0, 0, 0, 0, 0, 0, 0, 0,\n",
       "       0, 0, 0, 0, 0, 0, 0, 0, 0, 0, 0, 0, 0, 0, 0, 0, 0, 0, 0, 0, 0, 0,\n",
       "       0, 0, 0, 0, 0, 0, 0, 0, 0, 0, 0, 0, 0, 0, 0, 0, 0, 0, 0, 0, 0, 0,\n",
       "       0, 0, 0, 0, 0, 0, 0, 0, 0, 0, 0, 0, 0, 0, 0, 0, 0, 0, 0, 0, 0, 0,\n",
       "       0, 0, 0, 0, 0, 0, 0, 0, 0, 0, 0, 0, 0, 0, 0, 0, 0, 0, 0, 0, 0, 0,\n",
       "       0, 0, 0, 0, 0, 0, 0, 0, 0, 0, 0, 0, 0, 0, 0, 0, 0, 0, 0, 0, 0, 0,\n",
       "       0, 0, 0, 0, 0, 0, 0, 0, 0, 0, 0, 0, 0, 0, 0, 0, 0, 0, 0, 0, 0, 0,\n",
       "       0, 0, 0, 0, 0, 0, 0, 0, 0, 0, 0, 0, 0, 0, 0, 0, 0, 0, 0, 0, 0, 0,\n",
       "       0, 0, 0, 0, 0, 0, 0, 0, 0, 0, 0, 0, 0, 0, 0, 0, 0, 0, 0, 0, 0, 0,\n",
       "       0, 0, 0, 0, 0, 0, 0, 0, 0, 0, 0, 0, 0, 0, 0, 0, 0, 0, 0, 0, 0, 0,\n",
       "       0, 0, 0, 0, 0, 0, 0, 0, 0, 0, 0, 0, 0, 0, 0, 0, 0, 0, 0, 0, 0, 0,\n",
       "       0, 0, 0, 0, 0, 0, 0, 0, 0, 0, 0, 0, 0, 0, 0, 0, 0, 0, 0, 0, 0, 0,\n",
       "       0, 0, 0, 0, 0, 0, 0, 0, 0, 0, 0, 0, 0, 0, 0, 0, 0, 0, 0, 0, 0, 0,\n",
       "       0, 0, 0, 0, 0, 0, 0, 0, 0, 0, 0, 0, 0, 0, 0, 0, 0, 0, 0, 0, 0, 0,\n",
       "       0, 0, 0, 0, 0, 0, 0, 0, 0, 0, 0, 0, 0, 0, 0, 0, 0, 0, 0, 0, 0, 0,\n",
       "       0, 0, 0, 0, 0, 0, 0, 0, 0, 0, 0, 0, 0, 0, 0, 0, 0, 0, 0, 0, 0, 0,\n",
       "       0, 0, 0, 0, 0, 0, 0, 0, 0, 0, 0, 0, 0, 0, 0, 0, 0, 0, 0, 0, 0, 0,\n",
       "       0, 0, 0, 0, 0, 0, 0, 0, 0, 0, 0, 0, 0, 0, 0, 0, 0, 0, 0, 0, 0, 0,\n",
       "       0, 0, 0, 0, 0, 0, 0, 0, 0, 0, 0, 0, 0, 0, 0, 0, 0, 0, 0, 0, 0, 0,\n",
       "       0, 0, 0, 0, 0, 0, 0, 0, 0, 0, 0, 0, 0, 0, 0, 0, 0, 0, 0, 0, 0, 0,\n",
       "       0, 0, 0, 0, 0, 0, 0, 0, 0, 0, 0, 0, 0, 0, 0, 0, 0, 0, 0, 0, 0, 0,\n",
       "       0, 0, 0, 0, 0, 0, 0, 0, 0, 0, 0, 0, 0, 0, 0, 0, 0, 0, 0, 0, 0, 0,\n",
       "       0, 0, 0, 0, 0, 0, 0, 0, 0, 0, 0, 0, 0, 0, 0, 0, 0, 0, 0, 0, 0, 0,\n",
       "       0, 0, 0, 0, 0, 0])"
      ]
     },
     "execution_count": 19,
     "metadata": {},
     "output_type": "execute_result"
    }
   ],
   "source": [
    "np.array(predictions)"
   ]
  },
  {
   "cell_type": "code",
   "execution_count": 20,
   "id": "c62daebc",
   "metadata": {},
   "outputs": [
    {
     "data": {
      "text/plain": [
       "array([[ 39.7729146,  31.4560402,  33.4170107, ...,  32.5056427,\n",
       "         45.8392516,  43.3522408],\n",
       "       [ 54.4678706,  53.1748936,  51.823815 , ...,  61.0997086,\n",
       "         61.3669595,  52.2395468],\n",
       "       [105.987538 ,  71.160984 ,  90.3234012, ...,  64.7142439,\n",
       "         92.7858943,  88.8550812],\n",
       "       ...,\n",
       "       [ 64.989871 ,  72.709577 ,  66.8047291, ...,  69.3392612,\n",
       "         61.2426196,  61.1307175],\n",
       "       [ 69.0527409,  69.1201256,  66.9925442, ...,  68.3797374,\n",
       "         65.2004555,  67.0602814],\n",
       "       [ 64.9747563,  57.6952347,  46.1480956, ...,  49.3756172,\n",
       "         45.4942656,  45.6228844]], shape=(10, 600))"
      ]
     },
     "execution_count": 20,
     "metadata": {},
     "output_type": "execute_result"
    }
   ],
   "source": [
    "bird_velocities"
   ]
  },
  {
   "cell_type": "code",
   "execution_count": 21,
   "id": "27a80b7a",
   "metadata": {},
   "outputs": [],
   "source": [
    "test_accel = np.gradient(bird_velocities[0])\n",
    "\n",
    "accel_indices = (test_accel * 2).astype(int)\n",
    "max_likelihood_index = len(bird_likelihood) - 1\n",
    "accel_indices = np.clip(accel_indices, 0, max_likelihood_index)\n",
    "\n",
    "vel_indices = (bird_velocities[0] * 2).astype(int)\n",
    "vel_indices = np.clip(vel_indices, 0, max_likelihood_index)"
   ]
  },
  {
   "cell_type": "code",
   "execution_count": 22,
   "id": "67dbb4cc",
   "metadata": {},
   "outputs": [
    {
     "data": {
      "text/plain": [
       "(array([  4.,  26.,  39.,  83., 111., 128.,  90.,  69.,  32.,  18.]),\n",
       " array([-11.6132138 ,  -9.42987757,  -7.24654133,  -5.0632051 ,\n",
       "         -2.87986886,  -0.69653263,   1.48680361,   3.67013984,\n",
       "          5.85347608,   8.03681231,  10.22014855]),\n",
       " <BarContainer object of 10 artists>)"
      ]
     },
     "execution_count": 22,
     "metadata": {},
     "output_type": "execute_result"
    },
    {
     "data": {
      "image/png": "[encoded data removed]",
      "text/plain": [
       "<Figure size 640x480 with 1 Axes>"
      ]
     },
     "metadata": {},
     "output_type": "display_data"
    }
   ],
   "source": [
    "import matplotlib.pyplot as plt\n",
    "\n",
    "plt.hist(bird_velocities[0])\n",
    "plt.hist(test_accel)"
   ]
  },
  {
   "cell_type": "code",
   "execution_count": 38,
   "id": "e2942289",
   "metadata": {},
   "outputs": [
    {
     "data": {
      "text/plain": [
       "array([0.00166667, 0.        , 0.        , 0.        , 0.00166667,\n",
       "       0.        , 0.        , 0.        , 0.        , 0.        ,\n",
       "       0.        , 0.        , 0.        , 0.        , 0.        ,\n",
       "       0.        , 0.        , 0.        , 0.        , 0.        ,\n",
       "       0.        , 0.        , 0.        , 0.        , 0.        ,\n",
       "       0.        , 0.        , 0.        , 0.        , 0.        ,\n",
       "       0.        , 0.        , 0.00166667, 0.        , 0.        ,\n",
       "       0.        , 0.        , 0.        , 0.        , 0.00166667,\n",
       "       0.        , 0.00166667, 0.        , 0.00166667, 0.        ,\n",
       "       0.00166667, 0.        , 0.        , 0.        , 0.00333333,\n",
       "       0.00166667, 0.        , 0.        , 0.        , 0.00166667,\n",
       "       0.        , 0.        , 0.        , 0.        , 0.        ,\n",
       "       0.00333333, 0.00166667, 0.        , 0.00166667, 0.00333333,\n",
       "       0.00166667, 0.00166667, 0.00166667, 0.        , 0.        ,\n",
       "       0.        , 0.00166667, 0.005     , 0.        , 0.        ,\n",
       "       0.        , 0.        , 0.00166667, 0.00666667, 0.00166667,\n",
       "       0.00333333, 0.00166667, 0.        , 0.        , 0.00166667,\n",
       "       0.00166667, 0.        , 0.        , 0.00333333, 0.00166667,\n",
       "       0.        , 0.        , 0.00166667, 0.        , 0.00333333,\n",
       "       0.00333333, 0.        , 0.        , 0.00166667, 0.        ,\n",
       "       0.005     , 0.        , 0.        , 0.        , 0.00166667,\n",
       "       0.005     , 0.00166667, 0.00333333, 0.00166667, 0.        ,\n",
       "       0.        , 0.00333333, 0.00166667, 0.00166667, 0.00333333,\n",
       "       0.00166667, 0.00166667, 0.005     , 0.00333333, 0.00166667,\n",
       "       0.        , 0.        , 0.005     , 0.00166667, 0.00166667,\n",
       "       0.00333333, 0.00666667, 0.00333333, 0.005     , 0.00333333,\n",
       "       0.00166667, 0.00333333, 0.00166667, 0.        , 0.00166667,\n",
       "       0.00333333, 0.01      , 0.00333333, 0.00333333, 0.00333333,\n",
       "       0.00166667, 0.005     , 0.        , 0.00333333, 0.005     ,\n",
       "       0.00833333, 0.00833333, 0.00333333, 0.00333333, 0.005     ,\n",
       "       0.00333333, 0.00166667, 0.00166667, 0.00166667, 0.00666667,\n",
       "       0.        , 0.        , 0.00333333, 0.00666667, 0.00833333,\n",
       "       0.00166667, 0.00333333, 0.00333333, 0.00833333, 0.00333333,\n",
       "       0.00333333, 0.01      , 0.00666667, 0.005     , 0.00166667,\n",
       "       0.005     , 0.00333333, 0.00166667, 0.00166667, 0.01666667,\n",
       "       0.00333333, 0.        , 0.        , 0.005     , 0.005     ,\n",
       "       0.00666667, 0.        , 0.00333333, 0.00166667, 0.005     ,\n",
       "       0.005     , 0.01333333, 0.00333333, 0.005     , 0.00833333,\n",
       "       0.00166667, 0.00666667, 0.00333333, 0.00166667, 0.005     ,\n",
       "       0.005     , 0.00833333, 0.00166667, 0.005     , 0.00666667,\n",
       "       0.00666667, 0.005     , 0.005     , 0.01      , 0.00166667,\n",
       "       0.00833333, 0.00166667, 0.00166667, 0.00666667, 0.00333333,\n",
       "       0.00666667, 0.00333333, 0.00333333, 0.005     , 0.00166667,\n",
       "       0.00166667, 0.01333333, 0.005     , 0.01      , 0.00833333,\n",
       "       0.005     , 0.01      , 0.00833333, 0.005     , 0.005     ,\n",
       "       0.00333333, 0.00666667, 0.00333333, 0.005     , 0.005     ,\n",
       "       0.00333333, 0.00666667, 0.00166667, 0.00833333, 0.005     ,\n",
       "       0.005     , 0.005     , 0.005     , 0.00333333, 0.005     ,\n",
       "       0.00333333, 0.00166667, 0.        , 0.00666667, 0.00333333,\n",
       "       0.00333333, 0.005     , 0.00166667, 0.005     , 0.        ,\n",
       "       0.00333333, 0.00833333, 0.005     , 0.00333333, 0.00333333,\n",
       "       0.005     , 0.00333333, 0.00333333, 0.005     , 0.00666667,\n",
       "       0.00333333, 0.005     , 0.00166667, 0.00166667, 0.00166667,\n",
       "       0.00166667, 0.005     , 0.00166667, 0.00666667, 0.00333333,\n",
       "       0.00833333, 0.00166667, 0.00333333, 0.00666667, 0.00666667,\n",
       "       0.00166667, 0.005     , 0.005     , 0.00333333, 0.        ,\n",
       "       0.        , 0.005     , 0.005     , 0.        , 0.        ,\n",
       "       0.00333333, 0.005     , 0.        , 0.00166667, 0.00166667,\n",
       "       0.00166667, 0.00333333, 0.00166667, 0.00166667, 0.00166667,\n",
       "       0.00166667, 0.00333333, 0.        , 0.005     , 0.        ,\n",
       "       0.00333333, 0.005     , 0.        , 0.01166667, 0.005     ,\n",
       "       0.00166667, 0.00333333, 0.00166667, 0.00333333, 0.00333333,\n",
       "       0.00833333, 0.005     , 0.00333333, 0.00666667, 0.00333333,\n",
       "       0.00166667, 0.00333333, 0.00166667, 0.        , 0.00166667,\n",
       "       0.        , 0.00333333, 0.00333333, 0.00333333, 0.00333333,\n",
       "       0.00166667, 0.00166667, 0.        , 0.005     , 0.00166667,\n",
       "       0.00166667, 0.00166667, 0.00166667, 0.00166667, 0.        ,\n",
       "       0.00166667, 0.        , 0.        , 0.        , 0.        ,\n",
       "       0.        , 0.        , 0.00166667, 0.00166667, 0.        ,\n",
       "       0.00166667, 0.00166667, 0.        , 0.        , 0.00333333,\n",
       "       0.00166667, 0.        , 0.        , 0.        , 0.00333333,\n",
       "       0.00166667, 0.        , 0.00166667, 0.        , 0.00333333,\n",
       "       0.        , 0.00333333, 0.        , 0.00166667, 0.        ,\n",
       "       0.        , 0.00166667, 0.        , 0.        , 0.        ,\n",
       "       0.        , 0.        , 0.00166667, 0.        , 0.        ,\n",
       "       0.00333333, 0.        , 0.        , 0.        , 0.00333333,\n",
       "       0.00166667, 0.        , 0.00166667, 0.00166667, 0.        ,\n",
       "       0.00166667, 0.        , 0.        , 0.        , 0.00166667,\n",
       "       0.        , 0.        , 0.        , 0.        , 0.        ,\n",
       "       0.        , 0.00333333, 0.        , 0.        , 0.00333333])"
      ]
     },
     "execution_count": 38,
     "metadata": {},
     "output_type": "execute_result"
    }
   ],
   "source": [
    "counts, bin_edges = np.histogram(test_accel, bins=400, density=True)\n",
    "likelihood = counts / np.sum(counts) if np.sum(counts) > 0 else counts\n",
    "likelihood"
   ]
  },
  {
   "cell_type": "code",
   "execution_count": 39,
   "id": "d4b04b3f",
   "metadata": {},
   "outputs": [
    {
     "data": {
      "text/plain": [
       "((400,), (400,))"
      ]
     },
     "execution_count": 39,
     "metadata": {},
     "output_type": "execute_result"
    }
   ],
   "source": [
    "likelihood.shape, bird_likelihood.shape"
   ]
  },
  {
   "cell_type": "code",
   "execution_count": 45,
   "id": "842bf615",
   "metadata": {},
   "outputs": [],
   "source": [
    "def accel2likelihood(accels):\n",
    "    counts, _ = np.histogram(accels, bins=600, density=True)\n",
    "    likelihood = counts / np.sum(counts) if np.sum(counts) > 0 else counts\n",
    "    return likelihood"
   ]
  },
  {
   "cell_type": "code",
   "execution_count": 50,
   "id": "c43972db",
   "metadata": {},
   "outputs": [],
   "source": [
    "prob_bird = .5\n",
    "prob_aero = .5\n",
    "\n",
    "for j in range(len(bird_velocities)):\n",
    "    bird_row = np.nan_to_num(bird_velocities[j], nan=0)\n",
    "    aero_row = np.nan_to_num(aero_velocities[j], nan=0)\n",
    "\n",
    "    bird_accel = np.gradient(bird_row)\n",
    "    aero_accel = np.gradient(aero_row)\n",
    "\n",
    "    veloc_bird_likelihoods = speed2likelihood(bird_row)\n",
    "    veloc_aero_likelihoods = speed2likelihood(aero_row, bird=False)\n",
    "\n",
    "    accel_bird_likelihoods = accel2likelihood(bird_row)\n",
    "    accel_aero_likelihoods = accel2likelihood(aero_row)\n",
    "\n",
    "    for i in range(len(veloc_bird_likelihoods)):\n",
    "        obs_likelihood_bird = veloc_bird_likelihoods[i] * accel_bird_likelihoods[i]\n",
    "        obs_likelihood_aero = veloc_aero_likelihoods[i] * accel_aero_likelihoods[i]\n",
    "\n",
    "        if not obs_likelihood_aero:\n",
    "            continue\n",
    "        if not obs_likelihood_bird:\n",
    "            continue\n",
    "\n",
    "        if i != 0:\n",
    "            prob_bird = bird_normed * .9 + aero_normed * .1\n",
    "            prob_aero = aero_normed * .9 + bird_normed * .1\n",
    "\n",
    "        bird_post_update = obs_likelihood_bird * prob_bird\n",
    "        aero_post_update = obs_likelihood_aero * prob_aero\n",
    "\n",
    "        total = bird_post_update + aero_post_update\n",
    "        if total > 0:\n",
    "            bird_normed = bird_post_update/total\n",
    "            aero_normed = aero_post_update/total"
   ]
  },
  {
   "cell_type": "code",
   "execution_count": 51,
   "id": "0d6b4102",
   "metadata": {},
   "outputs": [
    {
     "data": {
      "text/plain": [
       "(np.float64(0.4518850197236631), np.float64(0.548114980276337))"
      ]
     },
     "execution_count": 51,
     "metadata": {},
     "output_type": "execute_result"
    }
   ],
   "source": [
    "bird_normed, aero_normed"
   ]
  },
  {
   "cell_type": "code",
   "execution_count": 59,
   "id": "589e7227",
   "metadata": {},
   "outputs": [],
   "source": [
    "prob_bird = .5\n",
    "prob_aero = .5\n",
    "\n",
    "test_sequence = np.nan_to_num(aero_test[2], nan=0)\n",
    "test_sequence_accel = np.gradient(test_sequence)\n",
    "\n",
    "predictions = []\n",
    "bird_probs = []\n",
    "\n",
    "bird_likelihoods = speed2likelihood(test_sequence)\n",
    "aero_likelihoods = speed2likelihood(test_sequence, bird=False)\n",
    "\n",
    "accel_likelihoods = accel2likelihood(test_sequence_accel)\n",
    "\n",
    "for i in range(len(test_sequence)):\n",
    "    obs_likelihood_bird = bird_likelihoods[i] * accel_likelihoods[i]\n",
    "    obs_likelihood_aero = aero_likelihoods[i] * accel_likelihoods[i]\n",
    "\n",
    "    if (np.nan_to_num(obs_likelihood_aero, nan=0) == 0) or (np.nan_to_num(obs_likelihood_bird, nan=0) == 0):\n",
    "        if len(predictions) > 0:\n",
    "            predictions.append(predictions[-1])\n",
    "            bird_probs.append(bird_probs[-1])\n",
    "        else:\n",
    "            predictions.append(1 if prob_bird > .5 else 0)\n",
    "            bird_probs.append(prob_bird)\n",
    "        continue\n",
    "\n",
    "    if i != 0:\n",
    "        prob_bird = bird_normed * .9 + aero_normed * .1\n",
    "        prob_aero = aero_normed * .9 + bird_normed * .1\n",
    "\n",
    "    bird_post_update = obs_likelihood_bird * prob_bird\n",
    "    aero_post_update = obs_likelihood_aero * prob_aero\n",
    "    \n",
    "    total = bird_post_update + aero_post_update\n",
    "    if total > 0:\n",
    "        bird_normed = bird_post_update/total\n",
    "        aero_normed = aero_post_update/total \n",
    "    else:\n",
    "        bird_normed = prob_bird\n",
    "        aero_normed = prob_aero\n",
    "\n",
    "    prediction = 1 if bird_normed > aero_normed else 0\n",
    "    predictions.append(prediction)\n",
    "    bird_probs.append(bird_normed)  "
   ]
  },
  {
   "cell_type": "code",
   "execution_count": 60,
   "id": "6ece454b",
   "metadata": {},
   "outputs": [
    {
     "data": {
      "text/plain": [
       "array([1, 1, 1, 1, 1, 0, 0, 0, 0, 0, 0, 0, 0, 0, 0, 0, 0, 0, 0, 0, 0, 0,\n",
       "       0, 0, 0, 0, 0, 0, 0, 0, 0, 0, 0, 0, 0, 0, 0, 0, 0, 0, 0, 0, 0, 0,\n",
       "       0, 0, 0, 0, 0, 0, 0, 0, 0, 0, 0, 0, 0, 0, 0, 0, 0, 0, 0, 0, 0, 0,\n",
       "       0, 0, 0, 0, 0, 0, 0, 0, 0, 0, 0, 0, 0, 0, 0, 0, 0, 0, 0, 0, 0, 0,\n",
       "       0, 0, 0, 0, 0, 0, 0, 0, 0, 0, 0, 0, 0, 0, 0, 0, 0, 0, 0, 0, 0, 0,\n",
       "       0, 0, 0, 0, 0, 0, 0, 0, 0, 0, 0, 0, 0, 0, 0, 0, 0, 0, 0, 0, 0, 0,\n",
       "       0, 0, 0, 0, 0, 0, 0, 0, 0, 0, 0, 0, 0, 0, 0, 0, 0, 0, 0, 0, 0, 0,\n",
       "       0, 0, 0, 0, 0, 0, 0, 0, 0, 0, 0, 0, 0, 0, 0, 0, 0, 0, 0, 0, 0, 0,\n",
       "       0, 0, 0, 0, 0, 0, 0, 0, 0, 0, 0, 0, 0, 0, 0, 0, 0, 0, 0, 0, 0, 0,\n",
       "       0, 0, 0, 0, 0, 0, 0, 0, 0, 0, 0, 0, 0, 0, 0, 0, 0, 0, 0, 0, 0, 0,\n",
       "       0, 0, 0, 0, 0, 0, 0, 0, 0, 0, 0, 0, 0, 0, 0, 0, 0, 0, 0, 0, 0, 0,\n",
       "       0, 0, 0, 0, 0, 0, 0, 0, 0, 0, 0, 0, 0, 0, 0, 0, 0, 0, 0, 0, 0, 0,\n",
       "       0, 0, 0, 0, 0, 0, 0, 0, 0, 0, 0, 0, 0, 0, 0, 0, 0, 0, 0, 0, 0, 0,\n",
       "       0, 0, 0, 0, 0, 0, 0, 0, 0, 0, 0, 0, 0, 0, 0, 0, 0, 0, 0, 0, 0, 0,\n",
       "       0, 0, 0, 0, 0, 0, 0, 0, 0, 0, 0, 0, 0, 0, 0, 0, 0, 0, 0, 0, 0, 0,\n",
       "       0, 0, 0, 0, 0, 0, 0, 0, 0, 0, 0, 0, 0, 0, 0, 0, 0, 0, 0, 0, 0, 0,\n",
       "       0, 0, 0, 0, 0, 0, 0, 0, 0, 0, 0, 0, 0, 0, 0, 0, 0, 0, 0, 0, 0, 0,\n",
       "       0, 0, 0, 0, 0, 0, 0, 0, 0, 0, 0, 0, 0, 0, 0, 0, 0, 0, 0, 0, 0, 0,\n",
       "       0, 0, 0, 0, 0, 0, 0, 0, 0, 0, 0, 0, 0, 0, 0, 0, 0, 0, 0, 0, 0, 0,\n",
       "       0, 0, 0, 0, 0, 0, 0, 0, 0, 0, 0, 0, 0, 0, 0, 0, 0, 0, 0, 0, 0, 0,\n",
       "       0, 0, 0, 0, 0, 0, 0, 0, 0, 0, 0, 0, 0, 0, 0, 0, 0, 0, 0, 0, 0, 0,\n",
       "       0, 0, 0, 0, 0, 0, 0, 0, 0, 0, 0, 0, 0, 0, 0, 0, 0, 0, 0, 0, 0, 0,\n",
       "       0, 0, 0, 0, 0, 0, 0, 0, 0, 0, 0, 0, 0, 0, 0, 0, 0, 0, 0, 0, 0, 0,\n",
       "       0, 0, 0, 0, 0, 0, 0, 0, 0, 0, 0, 0, 0, 0, 0, 0, 0, 0, 0, 0, 0, 0,\n",
       "       0, 0, 0, 0, 0, 0, 0, 0, 0, 0, 0, 0, 0, 0, 0, 0, 0, 0, 0, 0, 0, 0,\n",
       "       0, 0, 0, 0, 0, 0, 0, 0, 0, 0, 0, 0, 0, 0, 0, 0, 0, 0, 0, 0, 0, 0,\n",
       "       0, 0, 0, 0, 0, 0, 0, 0, 0, 0, 0, 0, 0, 0, 0, 0, 0, 0, 0, 0, 0, 0,\n",
       "       0, 0, 0, 0, 0, 0])"
      ]
     },
     "execution_count": 60,
     "metadata": {},
     "output_type": "execute_result"
    }
   ],
   "source": [
    "np.array(predictions)"
   ]
  },
  {
   "cell_type": "code",
   "execution_count": 1,
   "id": "8f7d3668",
   "metadata": {},
   "outputs": [
    {
     "name": "stdout",
     "output_type": "stream",
     "text": [
      "Final probabilities: Bird = 0.852, Aero = 0.148\n",
      "Final probabilities: Bird = 0.636, Aero = 0.364\n",
      "Final probabilities: Bird = 0.925, Aero = 0.075\n"
     ]
    }
   ],
   "source": [
    "from bayesian_networks import BayesianNetwork, BIRD_TEST, AERO_TEST\n",
    "\n",
    "bn_no_accel = BayesianNetwork(accel=None)\n",
    "bn_nonparam_accel = BayesianNetwork(accel=\"nonparam\")\n",
    "bn_param_accel = BayesianNetwork(accel=\"param\")\n",
    "\n",
    "bn_no_accel.fit()\n",
    "bn_nonparam_accel.fit()\n",
    "bn_param_accel.fit()"
   ]
  },
  {
   "cell_type": "code",
   "execution_count": 2,
   "id": "1d5817d5",
   "metadata": {},
   "outputs": [
    {
     "name": "stdout",
     "output_type": "stream",
     "text": [
      "Row 1: No Acceleration: bird | correct; Nonparametic Acceleration: bird | correct; Parametic Acceleration: bird | correct\n",
      "Row 2: No Acceleration: bird | correct; Nonparametic Acceleration: bird | correct; Parametic Acceleration: bird | correct\n",
      "Row 3: No Acceleration: bird | correct; Nonparametic Acceleration: aero | wrong; Parametic Acceleration: bird | correct\n",
      "Row 4: No Acceleration: bird | correct; Nonparametic Acceleration: bird | correct; Parametic Acceleration: bird | correct\n",
      "Row 5: No Acceleration: bird | correct; Nonparametic Acceleration: bird | correct; Parametic Acceleration: bird | correct\n",
      "\n",
      "Row 1: No Acceleration: bird | wrong; Nonparametic Acceleration: bird | wrong; Parametic Acceleration: bird | wrong\n",
      "Row 2: No Acceleration: bird | wrong; Nonparametic Acceleration: aero | correct; Parametic Acceleration: bird | wrong\n",
      "Row 3: No Acceleration: aero | correct; Nonparametic Acceleration: aero | correct; Parametic Acceleration: aero | correct\n",
      "Row 4: No Acceleration: aero | correct; Nonparametic Acceleration: aero | correct; Parametic Acceleration: aero | correct\n",
      "Row 5: No Acceleration: aero | correct; Nonparametic Acceleration: aero | correct; Parametic Acceleration: bird | wrong\n"
     ]
    }
   ],
   "source": [
    "import numpy as np\n",
    "\n",
    "for i, test_sequence in enumerate(BIRD_TEST):\n",
    "    preds_no_accel, _ = bn_no_accel.predict(test_sequence)\n",
    "    preds_accel_nonparam, _ = bn_nonparam_accel.predict(test_sequence)\n",
    "    preds_accel_param, _ = bn_param_accel.predict(test_sequence)\n",
    "\n",
    "    most_freq_no_accel = np.argmax(np.bincount(preds_no_accel))\n",
    "    most_freq_accel_nonparam = np.argmax(np.bincount(preds_accel_nonparam))\n",
    "    most_freq_accel_param = np.argmax(np.bincount(preds_accel_param))\n",
    "\n",
    "    if most_freq_no_accel == 1:\n",
    "        pred_str_no_accel = \"bird | correct\"\n",
    "    else:\n",
    "        pred_str_no_accel = \"aero | wrong\"\n",
    "    \n",
    "    if most_freq_accel_nonparam == 1:\n",
    "        pred_str_nonparam_accel = \"bird | correct\"\n",
    "    else:\n",
    "        pred_str_nonparam_accel = \"aero | wrong\"\n",
    "\n",
    "    if most_freq_accel_param == 1:\n",
    "        pred_str_param_accel = \"bird | correct\"\n",
    "    else:\n",
    "        pred_str_param_accel = \"aero | wrong\"\n",
    "    print(f\"Row {i+1}: No Acceleration: {pred_str_no_accel}; Nonparametic Acceleration: {pred_str_nonparam_accel}; Parametic Acceleration: {pred_str_param_accel}\")\n",
    "print()\n",
    "for i, test_sequence in enumerate(AERO_TEST):\n",
    "    preds_no_accel, _ = bn_no_accel.predict(test_sequence)\n",
    "    preds_accel_nonparam, _ = bn_nonparam_accel.predict(test_sequence)\n",
    "    preds_accel_param, _ = bn_param_accel.predict(test_sequence)\n",
    "\n",
    "    most_freq_no_accel = np.argmax(np.bincount(preds_no_accel))\n",
    "    most_freq_accel_nonparam = np.argmax(np.bincount(preds_accel_nonparam))\n",
    "    most_freq_accel_param = np.argmax(np.bincount(preds_accel_param))\n",
    "\n",
    "    if most_freq_no_accel == 1:\n",
    "        pred_str_no_accel = \"bird | wrong\"\n",
    "    else:\n",
    "        pred_str_no_accel = \"aero | correct\"\n",
    "    \n",
    "    if most_freq_accel_nonparam == 1:\n",
    "        pred_str_nonparam_accel = \"bird | wrong\"\n",
    "    else:\n",
    "        pred_str_nonparam_accel = \"aero | correct\"\n",
    "\n",
    "    if most_freq_accel_param == 1:\n",
    "        pred_str_param_accel = \"bird | wrong\"\n",
    "    else:\n",
    "        pred_str_param_accel = \"aero | correct\"\n",
    "    print(f\"Row {i+1}: No Acceleration: {pred_str_no_accel}; Nonparametic Acceleration: {pred_str_nonparam_accel}; Parametic Acceleration: {pred_str_param_accel}\")"
   ]
  },
  {
   "cell_type": "code",
   "execution_count": 10,
   "id": "bf880b54",
   "metadata": {},
   "outputs": [
    {
     "data": {
      "text/plain": [
       "<matplotlib.legend.Legend at 0x732a3cd0a270>"
      ]
     },
     "execution_count": 10,
     "metadata": {},
     "output_type": "execute_result"
    },
    {
     "data": {
      "image/png": "[encoded data removed]",
      "text/plain": [
       "<Figure size 640x480 with 1 Axes>"
      ]
     },
     "metadata": {},
     "output_type": "display_data"
    }
   ],
   "source": [
    "import matplotlib.pyplot as plt\n",
    "from bayesian_networks import LEN_OBSERVATIONS, BIRD_VELOCITIES, AERO_VELOCITIES\n",
    "\n",
    "\n",
    "all_bird_accels = []\n",
    "all_aero_accels = []\n",
    "\n",
    "for i in range(LEN_OBSERVATIONS):\n",
    "    bird_velocities = np.nan_to_num(BIRD_VELOCITIES[i], nan=0)\n",
    "    aero_velocities = np.nan_to_num(AERO_VELOCITIES[i], nan=0)\n",
    "\n",
    "    bird_accel = np.gradient(bird_velocities)\n",
    "    aero_accel = np.gradient(aero_velocities)\n",
    "\n",
    "    all_bird_accels.extend(bird_accel)\n",
    "    all_aero_accels.extend(aero_accel)\n",
    "\n",
    "plt.hist(all_bird_accels, label=\"Bird Accelerations\")\n",
    "plt.hist(all_aero_accels, label=\"Airplace Accelerations\")\n",
    "plt.title(\"Acceleration Histograms\")\n",
    "plt.legend()"
   ]
  },
  {
   "cell_type": "code",
   "execution_count": 11,
   "id": "715626aa",
   "metadata": {},
   "outputs": [],
   "source": [
    "all_bird_accels = np.array(all_bird_accels)\n",
    "all_aero_accels = np.array(all_aero_accels)\n",
    "\n",
    "bird_accel_mu = np.mean(all_bird_accels)\n",
    "bird_accel_sigma = np.std(all_bird_accels, ddof=1)\n",
    "aero_accel_mu = np.mean(all_aero_accels)\n",
    "aero_accel_sigma = np.std(all_aero_accels, ddof=1)"
   ]
  },
  {
   "cell_type": "code",
   "execution_count": 25,
   "id": "38207762",
   "metadata": {},
   "outputs": [],
   "source": [
    "import scipy.stats as st \n",
    "\n",
    "x_min, x_max = all_bird_accels.min(), all_bird_accels.max()\n",
    "x_smooth = np.linspace(x_min, x_max, 200)\n",
    "pdf_values = st.norm.pdf(x_smooth, loc=bird_accel_mu, scale=bird_accel_sigma)"
   ]
  },
  {
   "cell_type": "code",
   "execution_count": 48,
   "id": "62b251a8",
   "metadata": {},
   "outputs": [
    {
     "data": {
      "image/png": "[encoded data removed]",
      "text/plain": [
       "<Figure size 1000x600 with 1 Axes>"
      ]
     },
     "metadata": {},
     "output_type": "display_data"
    }
   ],
   "source": [
    "fig, ax = plt.subplots(1, 1, figsize=(10, 6))\n",
    "\n",
    "ax.hist(all_bird_accels, bins=30, density=True, alpha=0.7, color=\"skyblue\", edgecolor=\"black\", label='Histogram (Non-parametric)')\n",
    "ax.plot(x_smooth, pdf_values, '-', linewidth=2, color=\"skyblue\", label=\"Fit Gaussian PDF\")\n",
    "plt.title(\"Bird Accelerations\")\n",
    "plt.legend()\n",
    "plt.tight_layout()\n",
    "plt.show()"
   ]
  },
  {
   "cell_type": "code",
   "execution_count": 51,
   "id": "b19e63a0",
   "metadata": {},
   "outputs": [
    {
     "data": {
      "image/png": "[encoded data removed]",
      "text/plain": [
       "<Figure size 1000x600 with 1 Axes>"
      ]
     },
     "metadata": {},
     "output_type": "display_data"
    }
   ],
   "source": [
    "fig, ax = plt.subplots(1, 1, figsize=(10, 6))\n",
    "\n",
    "x_min, x_max = all_aero_accels.min(), all_aero_accels.max()\n",
    "x_smooth = np.linspace(x_min, x_max, 200)\n",
    "pdf_values = st.norm.pdf(x_smooth, loc=aero_accel_mu, scale=aero_accel_sigma)\n",
    "\n",
    "ax.hist(all_aero_accels, bins=30, density=True, alpha=0.7, color=\"orange\", edgecolor=\"black\", label='Histogram (Non-parametric)')\n",
    "ax.plot(x_smooth, pdf_values, '-', linewidth=2, color=\"orange\", label=\"Fit Gaussian PDF\")\n",
    "plt.title(\"Airplane Accelerations\")\n",
    "plt.legend()\n",
    "plt.tight_layout()\n",
    "plt.show()"
   ]
  },
  {
   "cell_type": "code",
   "execution_count": null,
   "id": "ba9d4bd9",
   "metadata": {},
   "outputs": [],
   "source": []
  }
 ],
 "metadata": {
  "kernelspec": {
   "display_name": "Python 3",
   "language": "python",
   "name": "python3"
  },
  "language_info": {
   "codemirror_mode": {
    "name": "ipython",
    "version": 3
   },
   "file_extension": ".py",
   "mimetype": "text/x-python",
   "name": "python",
   "nbconvert_exporter": "python",
   "pygments_lexer": "ipython3",
   "version": "3.12.1"
  }
 },
 "nbformat": 4,
 "nbformat_minor": 5
}
