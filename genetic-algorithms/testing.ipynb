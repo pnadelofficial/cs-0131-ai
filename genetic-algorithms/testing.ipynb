{
 "cells": [
  {
   "cell_type": "code",
   "execution_count": 2,
   "id": "1dd89fd8",
   "metadata": {},
   "outputs": [],
   "source": [
    "MAX_WEIGHT = 250\n",
    "CHROMOSOME_SIZE = 12\n",
    "BOXES = {\n",
    "    1: (20, 6),\n",
    "    2: (30, 5),\n",
    "    3: (60, 8),\n",
    "    4: (90, 7),\n",
    "    5: (50, 6),\n",
    "    6: (70, 9),\n",
    "    7: (30, 4),\n",
    "    8: (30, 5),\n",
    "    9: (70, 4),\n",
    "    10: (20, 9),\n",
    "    11: (20, 2),\n",
    "    12: (60, 1)\n",
    "}"
   ]
  },
  {
   "cell_type": "code",
   "execution_count": 11,
   "id": "1a9a1ceb",
   "metadata": {},
   "outputs": [],
   "source": [
    "def fitness(chromosome):\n",
    "    score = 0\n",
    "    for i, c in enumerate(chromosome):\n",
    "        weight, _ = BOXES[i+1]\n",
    "        score += weight*c\n",
    "    if score > MAX_WEIGHT:\n",
    "        f = 0\n",
    "    else:\n",
    "        score = 0\n",
    "        for i, c in enumerate(chromosome):\n",
    "            _, cost = BOXES[i+1]\n",
    "            score += cost*c\n",
    "        f = score\n",
    "    return f"
   ]
  },
  {
   "cell_type": "code",
   "execution_count": 16,
   "id": "63b9413b",
   "metadata": {},
   "outputs": [
    {
     "data": {
      "text/plain": [
       "0"
      ]
     },
     "execution_count": 16,
     "metadata": {},
     "output_type": "execute_result"
    }
   ],
   "source": [
    "test_c = [0, 1, 1, 1, 1, 1, 0, 1, 0, 1, 1, 1]\n",
    "fitness(test_c)"
   ]
  },
  {
   "cell_type": "code",
   "execution_count": 53,
   "id": "305d69d6",
   "metadata": {},
   "outputs": [],
   "source": [
    "import random\n",
    "import numpy as np \n",
    "\n",
    "def generate_chromosome():\n",
    "    chromosome = np.zeros(CHROMOSOME_SIZE)\n",
    "    for i in range(len(chromosome)):\n",
    "        if random.uniform(0,1) < .5:\n",
    "            chromosome[i] = 1\n",
    "        else:\n",
    "            chromosome[i] = 0\n",
    "    \n",
    "    score = 0\n",
    "    for i, c in enumerate(chromosome):\n",
    "        weight, _ = BOXES[i+1]\n",
    "        score += weight*c\n",
    "    if score > MAX_WEIGHT:\n",
    "        generate_chromosome() # create a new one if it exceeds the max weight\n",
    "    return chromosome"
   ]
  },
  {
   "cell_type": "code",
   "execution_count": 59,
   "id": "9e1ff7d8",
   "metadata": {},
   "outputs": [
    {
     "data": {
      "text/plain": [
       "np.float64(19.0)"
      ]
     },
     "execution_count": 59,
     "metadata": {},
     "output_type": "execute_result"
    }
   ],
   "source": [
    "fitness(generate_chromosome())"
   ]
  },
  {
   "cell_type": "code",
   "execution_count": 49,
   "id": "97881234",
   "metadata": {},
   "outputs": [],
   "source": [
    "def generate_population(population_size):\n",
    "    population = []\n",
    "    for i in range(population_size):\n",
    "        chromosome = generate_chromosome()\n",
    "        population.append(chromosome)\n",
    "    return np.array(population)"
   ]
  },
  {
   "cell_type": "code",
   "execution_count": 52,
   "id": "75e25e7f",
   "metadata": {},
   "outputs": [
    {
     "data": {
      "text/plain": [
       "array([[1., 0., 1., ..., 1., 1., 1.],\n",
       "       [0., 1., 0., ..., 1., 1., 1.],\n",
       "       [0., 0., 0., ..., 0., 1., 1.],\n",
       "       ...,\n",
       "       [0., 1., 1., ..., 0., 1., 0.],\n",
       "       [0., 0., 0., ..., 1., 0., 1.],\n",
       "       [1., 0., 0., ..., 0., 1., 1.]], shape=(1000, 12))"
      ]
     },
     "execution_count": 52,
     "metadata": {},
     "output_type": "execute_result"
    }
   ],
   "source": [
    "generate_population(1000)"
   ]
  },
  {
   "cell_type": "code",
   "execution_count": null,
   "id": "59c4efd9",
   "metadata": {},
   "outputs": [],
   "source": []
  }
 ],
 "metadata": {
  "kernelspec": {
   "display_name": "Python 3",
   "language": "python",
   "name": "python3"
  },
  "language_info": {
   "codemirror_mode": {
    "name": "ipython",
    "version": 3
   },
   "file_extension": ".py",
   "mimetype": "text/x-python",
   "name": "python",
   "nbconvert_exporter": "python",
   "pygments_lexer": "ipython3",
   "version": "3.12.1"
  }
 },
 "nbformat": 4,
 "nbformat_minor": 5
}
