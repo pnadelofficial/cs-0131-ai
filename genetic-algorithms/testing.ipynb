{
 "cells": [
  {
   "cell_type": "code",
   "execution_count": 1,
   "id": "1dd89fd8",
   "metadata": {},
   "outputs": [],
   "source": [
    "MAX_WEIGHT = 250\n",
    "CHROMOSOME_SIZE = 12\n",
    "BOXES = {\n",
    "    1: (20, 6),\n",
    "    2: (30, 5),\n",
    "    3: (60, 8),\n",
    "    4: (90, 7),\n",
    "    5: (50, 6),\n",
    "    6: (70, 9),\n",
    "    7: (30, 4),\n",
    "    8: (30, 5),\n",
    "    9: (70, 4),\n",
    "    10: (20, 9),\n",
    "    11: (20, 2),\n",
    "    12: (60, 1)\n",
    "}"
   ]
  },
  {
   "cell_type": "code",
   "execution_count": 2,
   "id": "1a9a1ceb",
   "metadata": {},
   "outputs": [],
   "source": [
    "def fitness(chromosome):\n",
    "    score = 0\n",
    "    for i, c in enumerate(chromosome):\n",
    "        weight, _ = BOXES[i+1]\n",
    "        score += weight*c\n",
    "    if score > MAX_WEIGHT:\n",
    "        f = 0\n",
    "    else:\n",
    "        score = 0\n",
    "        for i, c in enumerate(chromosome):\n",
    "            _, cost = BOXES[i+1]\n",
    "            score += cost*c\n",
    "        f = score\n",
    "    return f"
   ]
  },
  {
   "cell_type": "code",
   "execution_count": 3,
   "id": "63b9413b",
   "metadata": {},
   "outputs": [
    {
     "data": {
      "text/plain": [
       "0"
      ]
     },
     "execution_count": 3,
     "metadata": {},
     "output_type": "execute_result"
    }
   ],
   "source": [
    "test_c = [0, 1, 1, 1, 1, 1, 0, 1, 0, 1, 1, 1]\n",
    "fitness(test_c)"
   ]
  },
  {
   "cell_type": "code",
   "execution_count": 4,
   "id": "305d69d6",
   "metadata": {},
   "outputs": [],
   "source": [
    "import random\n",
    "import numpy as np \n",
    "\n",
    "def generate_chromosome():\n",
    "    chromosome = np.zeros(CHROMOSOME_SIZE)\n",
    "    for i in range(len(chromosome)):\n",
    "        if random.uniform(0,1) < .5:\n",
    "            chromosome[i] = 1\n",
    "        else:\n",
    "            chromosome[i] = 0\n",
    "    \n",
    "    score = 0\n",
    "    for i, c in enumerate(chromosome):\n",
    "        weight, _ = BOXES[i+1]\n",
    "        score += weight*c\n",
    "    if score > MAX_WEIGHT:\n",
    "        generate_chromosome() # create a new one if it exceeds the max weight\n",
    "    return chromosome"
   ]
  },
  {
   "cell_type": "code",
   "execution_count": 5,
   "id": "9e1ff7d8",
   "metadata": {},
   "outputs": [
    {
     "data": {
      "text/plain": [
       "0"
      ]
     },
     "execution_count": 5,
     "metadata": {},
     "output_type": "execute_result"
    }
   ],
   "source": [
    "fitness(generate_chromosome())"
   ]
  },
  {
   "cell_type": "code",
   "execution_count": 6,
   "id": "97881234",
   "metadata": {},
   "outputs": [],
   "source": [
    "def generate_population(population_size):\n",
    "    population = []\n",
    "    for i in range(population_size):\n",
    "        chromosome = generate_chromosome()\n",
    "        population.append(chromosome)\n",
    "    return np.array(population)"
   ]
  },
  {
   "cell_type": "code",
   "execution_count": 9,
   "id": "75e25e7f",
   "metadata": {},
   "outputs": [
    {
     "data": {
      "text/plain": [
       "array([[1., 0., 1., ..., 1., 0., 0.],\n",
       "       [1., 0., 1., ..., 1., 1., 1.],\n",
       "       [1., 0., 0., ..., 1., 0., 0.],\n",
       "       ...,\n",
       "       [1., 0., 1., ..., 0., 0., 0.],\n",
       "       [0., 1., 0., ..., 1., 0., 1.],\n",
       "       [1., 0., 1., ..., 0., 1., 0.]], shape=(1000, 12))"
      ]
     },
     "execution_count": 9,
     "metadata": {},
     "output_type": "execute_result"
    }
   ],
   "source": [
    "ex_pop = generate_population(1000)\n",
    "ex_pop"
   ]
  },
  {
   "cell_type": "code",
   "execution_count": 24,
   "id": "bfe6c9cb",
   "metadata": {},
   "outputs": [],
   "source": [
    "def evaluate(population):\n",
    "    fitnesses = np.zeros(population.shape[0])\n",
    "    for i in range(population.shape[0]):\n",
    "        f = fitness(population[i])\n",
    "        fitnesses[i] = f\n",
    "    max_id = fitnesses.argmax()\n",
    "    return population[max_id]"
   ]
  },
  {
   "cell_type": "code",
   "execution_count": 25,
   "id": "59c4efd9",
   "metadata": {},
   "outputs": [],
   "source": [
    "def evaluate_and_select(population):\n",
    "    fitnesses = np.zeros(population.shape[0])\n",
    "    for i in range(population.shape[0]):\n",
    "        f = fitness(population[i])\n",
    "        fitnesses[i] = f\n",
    "    \n",
    "    parent1 = random.choices(population, weights=fitnesses, k=1)[0]\n",
    "    parent2 = random.choices(population, weights=fitnesses, k=1)[0]\n",
    "    return parent1, parent2"
   ]
  },
  {
   "cell_type": "code",
   "execution_count": 32,
   "id": "46b3c894",
   "metadata": {},
   "outputs": [
    {
     "data": {
      "text/plain": [
       "(array([0., 0., 0., 1., 0., 1., 1., 1., 0., 0., 1., 0.]),\n",
       " array([0., 0., 0., 0., 1., 1., 0., 0., 1., 0., 0., 1.]))"
      ]
     },
     "execution_count": 32,
     "metadata": {},
     "output_type": "execute_result"
    }
   ],
   "source": [
    "parent1, parent2 = evaluate_and_select(ex_pop)\n",
    "parent1, parent2"
   ]
  },
  {
   "cell_type": "code",
   "execution_count": 33,
   "id": "ed4d7bd5",
   "metadata": {},
   "outputs": [
    {
     "data": {
      "text/plain": [
       "array([1., 0., 1., 0., 1., 1., 0., 1., 0., 1., 0., 0.])"
      ]
     },
     "execution_count": 33,
     "metadata": {},
     "output_type": "execute_result"
    }
   ],
   "source": [
    "best = evaluate(ex_pop)\n",
    "best"
   ]
  },
  {
   "cell_type": "code",
   "execution_count": 40,
   "id": "9f623b1d",
   "metadata": {},
   "outputs": [],
   "source": [
    "def crossover(parent1, parent2):\n",
    "    crossover_point = random.randint(0, CHROMOSOME_SIZE-1)\n",
    "    child1 = np.hstack([parent1[:crossover_point], parent2[crossover_point:]])\n",
    "    child2 = np.hstack([parent2[:crossover_point], parent1[crossover_point:]])\n",
    "    return child1, child2\n",
    "\n",
    "def mutate(chromosome):\n",
    "    mutation_point = random.randint(0, CHROMOSOME_SIZE-1)\n",
    "    if chromosome[mutation_point] == 0:\n",
    "        chromosome[mutation_point] = 1\n",
    "    else:\n",
    "        chromosome[mutation_point] = 0\n",
    "    return chromosome"
   ]
  },
  {
   "cell_type": "code",
   "execution_count": 60,
   "id": "30c25afb",
   "metadata": {},
   "outputs": [],
   "source": [
    "GENERATIONS = 15\n",
    "POP_SIZE = 100\n",
    "MUTATION_PROB = .2\n",
    "\n",
    "population = generate_population(POP_SIZE)\n",
    "\n",
    "for _ in range(GENERATIONS):\n",
    "    parent1, parent2 = evaluate_and_select(population)\n",
    "    child1, child2 = crossover(parent1, parent2)\n",
    "\n",
    "    if random.uniform(0,1) < MUTATION_PROB:\n",
    "        child1 = mutate(child1)\n",
    "    if random.uniform(0,1) < MUTATION_PROB:\n",
    "        child2 = mutate(child2)\n",
    "    \n",
    "    population = np.vstack([np.array([child1, child2]), population[2:]])\n",
    "\n",
    "best = evaluate(population)"
   ]
  },
  {
   "cell_type": "code",
   "execution_count": 61,
   "id": "153c1bef",
   "metadata": {},
   "outputs": [
    {
     "data": {
      "text/plain": [
       "array([0., 1., 1., 0., 1., 0., 1., 1., 0., 1., 1., 0.])"
      ]
     },
     "execution_count": 61,
     "metadata": {},
     "output_type": "execute_result"
    }
   ],
   "source": [
    "best"
   ]
  },
  {
   "cell_type": "code",
   "execution_count": 62,
   "id": "7b869e32",
   "metadata": {},
   "outputs": [],
   "source": [
    "total_weight = 0\n",
    "total_importance = 0\n",
    "for i, b in enumerate(best):\n",
    "    weight, importance = BOXES[i+1]\n",
    "    total_weight += b*weight\n",
    "    total_importance += b*importance"
   ]
  },
  {
   "cell_type": "code",
   "execution_count": 63,
   "id": "04d641fc",
   "metadata": {},
   "outputs": [
    {
     "data": {
      "text/plain": [
       "(np.float64(240.0), np.float64(39.0))"
      ]
     },
     "execution_count": 63,
     "metadata": {},
     "output_type": "execute_result"
    }
   ],
   "source": [
    "total_weight, total_importance"
   ]
  },
  {
   "cell_type": "code",
   "execution_count": null,
   "id": "a502ebf3",
   "metadata": {},
   "outputs": [],
   "source": []
  }
 ],
 "metadata": {
  "kernelspec": {
   "display_name": "Python 3",
   "language": "python",
   "name": "python3"
  },
  "language_info": {
   "codemirror_mode": {
    "name": "ipython",
    "version": 3
   },
   "file_extension": ".py",
   "mimetype": "text/x-python",
   "name": "python",
   "nbconvert_exporter": "python",
   "pygments_lexer": "ipython3",
   "version": "3.12.1"
  }
 },
 "nbformat": 4,
 "nbformat_minor": 5
}
