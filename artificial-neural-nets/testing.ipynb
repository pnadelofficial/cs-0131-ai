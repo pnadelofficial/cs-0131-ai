{
 "cells": [
  {
   "cell_type": "code",
   "execution_count": 1,
   "id": "5fd0df3f",
   "metadata": {},
   "outputs": [
    {
     "data": {
      "text/html": [
       "<div>\n",
       "<style scoped>\n",
       "    .dataframe tbody tr th:only-of-type {\n",
       "        vertical-align: middle;\n",
       "    }\n",
       "\n",
       "    .dataframe tbody tr th {\n",
       "        vertical-align: top;\n",
       "    }\n",
       "\n",
       "    .dataframe thead th {\n",
       "        text-align: right;\n",
       "    }\n",
       "</style>\n",
       "<table border=\"1\" class=\"dataframe\">\n",
       "  <thead>\n",
       "    <tr style=\"text-align: right;\">\n",
       "      <th></th>\n",
       "      <th>s_len</th>\n",
       "      <th>s_wid</th>\n",
       "      <th>p_len</th>\n",
       "      <th>p_wid</th>\n",
       "      <th>class</th>\n",
       "    </tr>\n",
       "  </thead>\n",
       "  <tbody>\n",
       "    <tr>\n",
       "      <th>0</th>\n",
       "      <td>5.1</td>\n",
       "      <td>3.5</td>\n",
       "      <td>1.4</td>\n",
       "      <td>0.2</td>\n",
       "      <td>0.0</td>\n",
       "    </tr>\n",
       "    <tr>\n",
       "      <th>1</th>\n",
       "      <td>4.9</td>\n",
       "      <td>3.0</td>\n",
       "      <td>1.4</td>\n",
       "      <td>0.2</td>\n",
       "      <td>0.0</td>\n",
       "    </tr>\n",
       "    <tr>\n",
       "      <th>2</th>\n",
       "      <td>4.7</td>\n",
       "      <td>3.2</td>\n",
       "      <td>1.3</td>\n",
       "      <td>0.2</td>\n",
       "      <td>0.0</td>\n",
       "    </tr>\n",
       "    <tr>\n",
       "      <th>3</th>\n",
       "      <td>4.6</td>\n",
       "      <td>3.1</td>\n",
       "      <td>1.5</td>\n",
       "      <td>0.2</td>\n",
       "      <td>0.0</td>\n",
       "    </tr>\n",
       "    <tr>\n",
       "      <th>4</th>\n",
       "      <td>5.0</td>\n",
       "      <td>3.6</td>\n",
       "      <td>1.4</td>\n",
       "      <td>0.2</td>\n",
       "      <td>0.0</td>\n",
       "    </tr>\n",
       "    <tr>\n",
       "      <th>...</th>\n",
       "      <td>...</td>\n",
       "      <td>...</td>\n",
       "      <td>...</td>\n",
       "      <td>...</td>\n",
       "      <td>...</td>\n",
       "    </tr>\n",
       "    <tr>\n",
       "      <th>145</th>\n",
       "      <td>6.7</td>\n",
       "      <td>3.0</td>\n",
       "      <td>5.2</td>\n",
       "      <td>2.3</td>\n",
       "      <td>2.0</td>\n",
       "    </tr>\n",
       "    <tr>\n",
       "      <th>146</th>\n",
       "      <td>6.3</td>\n",
       "      <td>2.5</td>\n",
       "      <td>5.0</td>\n",
       "      <td>1.9</td>\n",
       "      <td>2.0</td>\n",
       "    </tr>\n",
       "    <tr>\n",
       "      <th>147</th>\n",
       "      <td>6.5</td>\n",
       "      <td>3.0</td>\n",
       "      <td>5.2</td>\n",
       "      <td>2.0</td>\n",
       "      <td>2.0</td>\n",
       "    </tr>\n",
       "    <tr>\n",
       "      <th>148</th>\n",
       "      <td>6.2</td>\n",
       "      <td>3.4</td>\n",
       "      <td>5.4</td>\n",
       "      <td>2.3</td>\n",
       "      <td>2.0</td>\n",
       "    </tr>\n",
       "    <tr>\n",
       "      <th>149</th>\n",
       "      <td>5.9</td>\n",
       "      <td>3.0</td>\n",
       "      <td>5.1</td>\n",
       "      <td>1.8</td>\n",
       "      <td>2.0</td>\n",
       "    </tr>\n",
       "  </tbody>\n",
       "</table>\n",
       "<p>150 rows × 5 columns</p>\n",
       "</div>"
      ],
      "text/plain": [
       "     s_len  s_wid  p_len  p_wid  class\n",
       "0      5.1    3.5    1.4    0.2    0.0\n",
       "1      4.9    3.0    1.4    0.2    0.0\n",
       "2      4.7    3.2    1.3    0.2    0.0\n",
       "3      4.6    3.1    1.5    0.2    0.0\n",
       "4      5.0    3.6    1.4    0.2    0.0\n",
       "..     ...    ...    ...    ...    ...\n",
       "145    6.7    3.0    5.2    2.3    2.0\n",
       "146    6.3    2.5    5.0    1.9    2.0\n",
       "147    6.5    3.0    5.2    2.0    2.0\n",
       "148    6.2    3.4    5.4    2.3    2.0\n",
       "149    5.9    3.0    5.1    1.8    2.0\n",
       "\n",
       "[150 rows x 5 columns]"
      ]
     },
     "execution_count": 1,
     "metadata": {},
     "output_type": "execute_result"
    }
   ],
   "source": [
    "import pandas as pd\n",
    "\n",
    "with open(\"data.txt\", \"r\") as f:\n",
    "    lines = f.readlines()\n",
    "data = [line.strip().split(\",\") for line in lines][:-1] \n",
    "df = pd.DataFrame(data, columns=[\"s_len\", \"s_wid\", \"p_len\", \"p_wid\", \"class\"])\n",
    "\n",
    "label_mapping = {\n",
    "    \"Iris-setosa\": 0,\n",
    "    \"Iris-versicolor\": 1, # colour hahah\n",
    "    \"Iris-virginica\": 2\n",
    "}\n",
    "\n",
    "df['class'] = df['class'].map(label_mapping)\n",
    "df = df.astype(float)\n",
    "df"
   ]
  },
  {
   "cell_type": "code",
   "execution_count": 2,
   "id": "7453eaa1",
   "metadata": {},
   "outputs": [],
   "source": [
    "import numpy as np"
   ]
  },
  {
   "cell_type": "code",
   "execution_count": 3,
   "id": "f66a0db1",
   "metadata": {},
   "outputs": [],
   "source": [
    "def relu(x):\n",
    "    return np.clip(x, 0, np.abs(np.max(x)))"
   ]
  },
  {
   "cell_type": "code",
   "execution_count": 4,
   "id": "ab1db87c",
   "metadata": {},
   "outputs": [
    {
     "data": {
      "text/plain": [
       "array([[0.        , 0.        , 0.        ],\n",
       "       [0.11325282, 1.38680225, 0.        ],\n",
       "       [0.14184724, 0.        , 0.        ]])"
      ]
     },
     "execution_count": 4,
     "metadata": {},
     "output_type": "execute_result"
    }
   ],
   "source": [
    "relu(np.random.normal(size=(3,3)))"
   ]
  },
  {
   "cell_type": "code",
   "execution_count": 35,
   "id": "e3d82785",
   "metadata": {},
   "outputs": [],
   "source": [
    "def softmax(x):\n",
    "    e_x = np.exp(x - np.max(x))\n",
    "    return e_x / e_x.sum()"
   ]
  },
  {
   "cell_type": "code",
   "execution_count": 40,
   "id": "8d5b3a3e",
   "metadata": {},
   "outputs": [],
   "source": [
    "def make_one_hot(label):\n",
    "    one_hot = np.zeros(3)\n",
    "    one_hot[int(label)] = 1\n",
    "    return one_hot"
   ]
  },
  {
   "cell_type": "code",
   "execution_count": 49,
   "id": "0228b41c",
   "metadata": {},
   "outputs": [],
   "source": [
    "def cross_entropy_loss(y, y_pred):\n",
    "    return np.mean(-np.sum(y * np.log(y_pred), axis=-1))"
   ]
  },
  {
   "cell_type": "markdown",
   "id": "d38bae70",
   "metadata": {},
   "source": [
    "# full oop"
   ]
  },
  {
   "cell_type": "code",
   "execution_count": 5,
   "id": "aa4e7157",
   "metadata": {},
   "outputs": [],
   "source": [
    "class Neuron:\n",
    "    def __init__(self, weight, activation_func):\n",
    "        self.weight = weight\n",
    "        self.activation_func = activation_func\n",
    "    \n",
    "    def __call__(self, data):\n",
    "        h = np.sum(data) * self.weight\n",
    "        if self.activation_func:\n",
    "            h = self.activation_func(h)\n",
    "        self.h = h\n",
    "        return self.h"
   ]
  },
  {
   "cell_type": "code",
   "execution_count": 6,
   "id": "136a287c",
   "metadata": {},
   "outputs": [
    {
     "data": {
      "text/plain": [
       "np.float64(0.0)"
      ]
     },
     "execution_count": 6,
     "metadata": {},
     "output_type": "execute_result"
    }
   ],
   "source": [
    "n = Neuron(-.25, relu)\n",
    "n(df.iloc[0, :-1])"
   ]
  },
  {
   "cell_type": "code",
   "execution_count": 7,
   "id": "d19f35d5",
   "metadata": {},
   "outputs": [],
   "source": [
    "def get_random_weight_or_bias():\n",
    "    return np.random.normal() - 0.5\n",
    "\n",
    "class Layer:\n",
    "    def __init__(self, hidden_size):\n",
    "        self.hidden_size = hidden_size\n",
    "    \n",
    "    def initialize(self):\n",
    "        self.neurons = [Neuron(get_random_weight_or_bias(), relu) for _ in range(self.hidden_size)]\n",
    "    \n",
    "    def __call__(self, data):\n",
    "        return np.array([n(data) for n in self.neurons])"
   ]
  },
  {
   "cell_type": "code",
   "execution_count": 8,
   "id": "80a6325a",
   "metadata": {},
   "outputs": [
    {
     "data": {
      "text/plain": [
       "[<__main__.Neuron at 0x7270c86193a0>,\n",
       " <__main__.Neuron at 0x7270a33812b0>,\n",
       " <__main__.Neuron at 0x7270a31af890>,\n",
       " <__main__.Neuron at 0x7270a31d86e0>,\n",
       " <__main__.Neuron at 0x7270a31d8740>,\n",
       " <__main__.Neuron at 0x7270a31d8770>,\n",
       " <__main__.Neuron at 0x7270a31d85c0>,\n",
       " <__main__.Neuron at 0x7270a31d85f0>,\n",
       " <__main__.Neuron at 0x7270a31d8620>,\n",
       " <__main__.Neuron at 0x7270a31d8650>]"
      ]
     },
     "execution_count": 8,
     "metadata": {},
     "output_type": "execute_result"
    }
   ],
   "source": [
    "l = Layer(10)\n",
    "l.initialize()\n",
    "l.neurons"
   ]
  },
  {
   "cell_type": "code",
   "execution_count": 9,
   "id": "4b5a2413",
   "metadata": {},
   "outputs": [
    {
     "data": {
      "text/plain": [
       "-2.4774667335930642"
      ]
     },
     "execution_count": 9,
     "metadata": {},
     "output_type": "execute_result"
    }
   ],
   "source": [
    "l.neurons[0].weight"
   ]
  },
  {
   "cell_type": "code",
   "execution_count": 10,
   "id": "3400bb1a",
   "metadata": {},
   "outputs": [
    {
     "data": {
      "text/plain": [
       "array([0.        , 0.        , 0.42906082, 0.        , 0.        ,\n",
       "       0.        , 0.        , 0.        , 0.        , 0.        ])"
      ]
     },
     "execution_count": 10,
     "metadata": {},
     "output_type": "execute_result"
    }
   ],
   "source": [
    "out = l(df.iloc[0, :-1]) # 4 -> 10\n",
    "out"
   ]
  },
  {
   "cell_type": "code",
   "execution_count": 11,
   "id": "496624fa",
   "metadata": {},
   "outputs": [
    {
     "data": {
      "text/plain": [
       "(10, 1)"
      ]
     },
     "execution_count": 11,
     "metadata": {},
     "output_type": "execute_result"
    }
   ],
   "source": [
    "np.expand_dims(out, axis=1).shape"
   ]
  },
  {
   "cell_type": "code",
   "execution_count": 12,
   "id": "6e55df54",
   "metadata": {},
   "outputs": [
    {
     "data": {
      "text/plain": [
       "(10, 3)"
      ]
     },
     "execution_count": 12,
     "metadata": {},
     "output_type": "execute_result"
    }
   ],
   "source": [
    "np.random.normal(size=(10,3)).shape"
   ]
  },
  {
   "cell_type": "code",
   "execution_count": 13,
   "id": "861a608a",
   "metadata": {},
   "outputs": [
    {
     "data": {
      "text/plain": [
       "array([[-0.01686213,  0.11399819, -0.22595957]])"
      ]
     },
     "execution_count": 13,
     "metadata": {},
     "output_type": "execute_result"
    }
   ],
   "source": [
    "weights = np.random.normal(size=(10,3)) \n",
    "out /= np.linalg.norm(out)\n",
    "weights /= np.linalg.norm(weights)\n",
    "\n",
    "logits = np.expand_dims(out, axis=1).T @ weights\n",
    "logits"
   ]
  },
  {
   "cell_type": "code",
   "execution_count": 14,
   "id": "98ee897d",
   "metadata": {},
   "outputs": [],
   "source": [
    "from scipy.special import softmax"
   ]
  },
  {
   "cell_type": "code",
   "execution_count": 15,
   "id": "d48cdf47",
   "metadata": {},
   "outputs": [],
   "source": [
    "probs = softmax(logits)"
   ]
  },
  {
   "cell_type": "code",
   "execution_count": 16,
   "id": "0e8ba051",
   "metadata": {},
   "outputs": [
    {
     "data": {
      "text/plain": [
       "array([[0.33885386, 0.38622853, 0.27491762]])"
      ]
     },
     "execution_count": 16,
     "metadata": {},
     "output_type": "execute_result"
    }
   ],
   "source": [
    "probs"
   ]
  },
  {
   "cell_type": "code",
   "execution_count": 17,
   "id": "f8a9a528",
   "metadata": {},
   "outputs": [
    {
     "data": {
      "text/plain": [
       "np.float64(0.0)"
      ]
     },
     "execution_count": 17,
     "metadata": {},
     "output_type": "execute_result"
    }
   ],
   "source": [
    "df.iloc[0, -1]"
   ]
  },
  {
   "cell_type": "code",
   "execution_count": null,
   "id": "d9c2f3ed",
   "metadata": {},
   "outputs": [],
   "source": [
    "def make_one_hot(label):\n",
    "    one_hot = np.zeros(3)\n",
    "    one_hot[int(label)] = 1\n",
    "    return one_hot"
   ]
  },
  {
   "cell_type": "code",
   "execution_count": 19,
   "id": "2d7766e2",
   "metadata": {},
   "outputs": [
    {
     "data": {
      "text/plain": [
       "array([1., 0., 0.])"
      ]
     },
     "execution_count": 19,
     "metadata": {},
     "output_type": "execute_result"
    }
   ],
   "source": [
    "make_one_hot(df.iloc[0, -1])"
   ]
  },
  {
   "cell_type": "code",
   "execution_count": 20,
   "id": "b8cb68bc",
   "metadata": {},
   "outputs": [],
   "source": [
    "from sklearn.metrics import log_loss"
   ]
  },
  {
   "cell_type": "code",
   "execution_count": 21,
   "id": "41b7b304",
   "metadata": {},
   "outputs": [
    {
     "data": {
      "text/plain": [
       "0.6305963273243558"
      ]
     },
     "execution_count": 21,
     "metadata": {},
     "output_type": "execute_result"
    }
   ],
   "source": [
    "log_loss(make_one_hot(df.iloc[0, -1]), probs.squeeze())"
   ]
  },
  {
   "cell_type": "markdown",
   "id": "83466e59",
   "metadata": {},
   "source": [
    "# just layers"
   ]
  },
  {
   "cell_type": "code",
   "execution_count": 26,
   "id": "923cef3e",
   "metadata": {},
   "outputs": [
    {
     "data": {
      "text/plain": [
       "((4, 1), (10, 4))"
      ]
     },
     "execution_count": 26,
     "metadata": {},
     "output_type": "execute_result"
    }
   ],
   "source": [
    "hidden_size = 10\n",
    "input = np.expand_dims(df.iloc[0, :-1].to_numpy(), axis=1)\n",
    "input /= np.linalg.norm(input)\n",
    "\n",
    "layer1 = np.random.normal(size=(hidden_size, 4))\n",
    "layer1 /= np.linalg.norm(layer1)\n",
    "\n",
    "input.shape, layer1.shape"
   ]
  },
  {
   "cell_type": "code",
   "execution_count": 27,
   "id": "c692423a",
   "metadata": {},
   "outputs": [
    {
     "data": {
      "text/plain": [
       "array([[0.01652762],\n",
       "       [0.01252089],\n",
       "       [0.10072518],\n",
       "       [0.01539276],\n",
       "       [0.09080311],\n",
       "       [0.        ],\n",
       "       [0.        ],\n",
       "       [0.        ],\n",
       "       [0.        ],\n",
       "       [0.        ]])"
      ]
     },
     "execution_count": 27,
     "metadata": {},
     "output_type": "execute_result"
    }
   ],
   "source": [
    "act = relu(layer1 @ input)\n",
    "act"
   ]
  },
  {
   "cell_type": "code",
   "execution_count": 29,
   "id": "eb1cfbbd",
   "metadata": {},
   "outputs": [
    {
     "data": {
      "text/plain": [
       "(10, 1)"
      ]
     },
     "execution_count": 29,
     "metadata": {},
     "output_type": "execute_result"
    }
   ],
   "source": [
    "act.shape"
   ]
  },
  {
   "cell_type": "code",
   "execution_count": 34,
   "id": "d85de9c3",
   "metadata": {},
   "outputs": [
    {
     "data": {
      "text/plain": [
       "array([-0.04089742,  0.15918066,  0.13058024])"
      ]
     },
     "execution_count": 34,
     "metadata": {},
     "output_type": "execute_result"
    }
   ],
   "source": [
    "layer2 = np.random.normal(size=(hidden_size,3)) \n",
    "layer2 /= np.linalg.norm(layer2)\n",
    "\n",
    "act /= np.linalg.norm(act)\n",
    "\n",
    "output = (layer2.T @ act).squeeze()\n",
    "output"
   ]
  },
  {
   "cell_type": "code",
   "execution_count": 41,
   "id": "ad64d5f6",
   "metadata": {},
   "outputs": [
    {
     "data": {
      "text/plain": [
       "((3,), (3,))"
      ]
     },
     "execution_count": 41,
     "metadata": {},
     "output_type": "execute_result"
    }
   ],
   "source": [
    "preds = softmax(output)\n",
    "trues = make_one_hot(df.iloc[0, -1])\n",
    "preds.shape, trues.shape"
   ]
  },
  {
   "cell_type": "code",
   "execution_count": 50,
   "id": "ba7a3adb",
   "metadata": {},
   "outputs": [
    {
     "data": {
      "text/plain": [
       "np.float64(1.2262886644256403)"
      ]
     },
     "execution_count": 50,
     "metadata": {},
     "output_type": "execute_result"
    }
   ],
   "source": [
    "loss = cross_entropy_loss(trues, preds)\n",
    "loss"
   ]
  },
  {
   "cell_type": "code",
   "execution_count": 52,
   "id": "5b16f536",
   "metadata": {},
   "outputs": [],
   "source": [
    "d_output = act\n",
    "d_act = input"
   ]
  },
  {
   "cell_type": "code",
   "execution_count": 64,
   "id": "5aeaec70",
   "metadata": {},
   "outputs": [],
   "source": [
    "lr = .1\n",
    "layer2 -= lr * d_output\n",
    "layer1 -= lr * d_act.T"
   ]
  },
  {
   "cell_type": "code",
   "execution_count": 65,
   "id": "ec3a705e",
   "metadata": {},
   "outputs": [
    {
     "data": {
      "text/plain": [
       "array([-0.10187419, -0.10626312, -0.12084282])"
      ]
     },
     "execution_count": 65,
     "metadata": {},
     "output_type": "execute_result"
    }
   ],
   "source": [
    "layer1 /= np.linalg.norm(layer1)\n",
    "act = relu(layer1 @ input)\n",
    "layer2 /= np.linalg.norm(layer2)\n",
    "act /= np.linalg.norm(act)\n",
    "output = (layer2.T @ act).squeeze()\n",
    "output"
   ]
  },
  {
   "cell_type": "code",
   "execution_count": 66,
   "id": "f8e6c818",
   "metadata": {},
   "outputs": [
    {
     "data": {
      "text/plain": [
       "np.float64(1.0908592547307117)"
      ]
     },
     "execution_count": 66,
     "metadata": {},
     "output_type": "execute_result"
    }
   ],
   "source": [
    "preds = softmax(output)\n",
    "trues = make_one_hot(df.iloc[0, -1])\n",
    "loss = cross_entropy_loss(trues, preds)\n",
    "loss"
   ]
  },
  {
   "cell_type": "code",
   "execution_count": null,
   "id": "943a0857",
   "metadata": {},
   "outputs": [],
   "source": []
  }
 ],
 "metadata": {
  "kernelspec": {
   "display_name": "Python 3",
   "language": "python",
   "name": "python3"
  },
  "language_info": {
   "codemirror_mode": {
    "name": "ipython",
    "version": 3
   },
   "file_extension": ".py",
   "mimetype": "text/x-python",
   "name": "python",
   "nbconvert_exporter": "python",
   "pygments_lexer": "ipython3",
   "version": "3.12.1"
  }
 },
 "nbformat": 4,
 "nbformat_minor": 5
}
