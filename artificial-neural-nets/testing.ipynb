{
 "cells": [
  {
   "cell_type": "code",
   "execution_count": 1,
   "id": "5fd0df3f",
   "metadata": {},
   "outputs": [
    {
     "data": {
      "text/html": [
       "<div>\n",
       "<style scoped>\n",
       "    .dataframe tbody tr th:only-of-type {\n",
       "        vertical-align: middle;\n",
       "    }\n",
       "\n",
       "    .dataframe tbody tr th {\n",
       "        vertical-align: top;\n",
       "    }\n",
       "\n",
       "    .dataframe thead th {\n",
       "        text-align: right;\n",
       "    }\n",
       "</style>\n",
       "<table border=\"1\" class=\"dataframe\">\n",
       "  <thead>\n",
       "    <tr style=\"text-align: right;\">\n",
       "      <th></th>\n",
       "      <th>s_len</th>\n",
       "      <th>s_wid</th>\n",
       "      <th>p_len</th>\n",
       "      <th>p_wid</th>\n",
       "      <th>class</th>\n",
       "    </tr>\n",
       "  </thead>\n",
       "  <tbody>\n",
       "    <tr>\n",
       "      <th>0</th>\n",
       "      <td>5.1</td>\n",
       "      <td>3.5</td>\n",
       "      <td>1.4</td>\n",
       "      <td>0.2</td>\n",
       "      <td>0.0</td>\n",
       "    </tr>\n",
       "    <tr>\n",
       "      <th>1</th>\n",
       "      <td>4.9</td>\n",
       "      <td>3.0</td>\n",
       "      <td>1.4</td>\n",
       "      <td>0.2</td>\n",
       "      <td>0.0</td>\n",
       "    </tr>\n",
       "    <tr>\n",
       "      <th>2</th>\n",
       "      <td>4.7</td>\n",
       "      <td>3.2</td>\n",
       "      <td>1.3</td>\n",
       "      <td>0.2</td>\n",
       "      <td>0.0</td>\n",
       "    </tr>\n",
       "    <tr>\n",
       "      <th>3</th>\n",
       "      <td>4.6</td>\n",
       "      <td>3.1</td>\n",
       "      <td>1.5</td>\n",
       "      <td>0.2</td>\n",
       "      <td>0.0</td>\n",
       "    </tr>\n",
       "    <tr>\n",
       "      <th>4</th>\n",
       "      <td>5.0</td>\n",
       "      <td>3.6</td>\n",
       "      <td>1.4</td>\n",
       "      <td>0.2</td>\n",
       "      <td>0.0</td>\n",
       "    </tr>\n",
       "    <tr>\n",
       "      <th>...</th>\n",
       "      <td>...</td>\n",
       "      <td>...</td>\n",
       "      <td>...</td>\n",
       "      <td>...</td>\n",
       "      <td>...</td>\n",
       "    </tr>\n",
       "    <tr>\n",
       "      <th>145</th>\n",
       "      <td>6.7</td>\n",
       "      <td>3.0</td>\n",
       "      <td>5.2</td>\n",
       "      <td>2.3</td>\n",
       "      <td>2.0</td>\n",
       "    </tr>\n",
       "    <tr>\n",
       "      <th>146</th>\n",
       "      <td>6.3</td>\n",
       "      <td>2.5</td>\n",
       "      <td>5.0</td>\n",
       "      <td>1.9</td>\n",
       "      <td>2.0</td>\n",
       "    </tr>\n",
       "    <tr>\n",
       "      <th>147</th>\n",
       "      <td>6.5</td>\n",
       "      <td>3.0</td>\n",
       "      <td>5.2</td>\n",
       "      <td>2.0</td>\n",
       "      <td>2.0</td>\n",
       "    </tr>\n",
       "    <tr>\n",
       "      <th>148</th>\n",
       "      <td>6.2</td>\n",
       "      <td>3.4</td>\n",
       "      <td>5.4</td>\n",
       "      <td>2.3</td>\n",
       "      <td>2.0</td>\n",
       "    </tr>\n",
       "    <tr>\n",
       "      <th>149</th>\n",
       "      <td>5.9</td>\n",
       "      <td>3.0</td>\n",
       "      <td>5.1</td>\n",
       "      <td>1.8</td>\n",
       "      <td>2.0</td>\n",
       "    </tr>\n",
       "  </tbody>\n",
       "</table>\n",
       "<p>150 rows × 5 columns</p>\n",
       "</div>"
      ],
      "text/plain": [
       "     s_len  s_wid  p_len  p_wid  class\n",
       "0      5.1    3.5    1.4    0.2    0.0\n",
       "1      4.9    3.0    1.4    0.2    0.0\n",
       "2      4.7    3.2    1.3    0.2    0.0\n",
       "3      4.6    3.1    1.5    0.2    0.0\n",
       "4      5.0    3.6    1.4    0.2    0.0\n",
       "..     ...    ...    ...    ...    ...\n",
       "145    6.7    3.0    5.2    2.3    2.0\n",
       "146    6.3    2.5    5.0    1.9    2.0\n",
       "147    6.5    3.0    5.2    2.0    2.0\n",
       "148    6.2    3.4    5.4    2.3    2.0\n",
       "149    5.9    3.0    5.1    1.8    2.0\n",
       "\n",
       "[150 rows x 5 columns]"
      ]
     },
     "execution_count": 1,
     "metadata": {},
     "output_type": "execute_result"
    }
   ],
   "source": [
    "import pandas as pd\n",
    "\n",
    "with open(\"data.txt\", \"r\") as f:\n",
    "    lines = f.readlines()\n",
    "data = [line.strip().split(\",\") for line in lines][:-1] \n",
    "df = pd.DataFrame(data, columns=[\"s_len\", \"s_wid\", \"p_len\", \"p_wid\", \"class\"])\n",
    "\n",
    "label_mapping = {\n",
    "    \"Iris-setosa\": 0,\n",
    "    \"Iris-versicolor\": 1, # colour hahah\n",
    "    \"Iris-virginica\": 2\n",
    "}\n",
    "\n",
    "df['class'] = df['class'].map(label_mapping)\n",
    "df = df.astype(float)\n",
    "df"
   ]
  },
  {
   "cell_type": "code",
   "execution_count": 2,
   "id": "7453eaa1",
   "metadata": {},
   "outputs": [],
   "source": [
    "import numpy as np"
   ]
  },
  {
   "cell_type": "code",
   "execution_count": 3,
   "id": "f66a0db1",
   "metadata": {},
   "outputs": [],
   "source": [
    "def relu(data):\n",
    "    return np.clip(data, 0, np.abs(np.max(data)))"
   ]
  },
  {
   "cell_type": "code",
   "execution_count": 4,
   "id": "ab1db87c",
   "metadata": {},
   "outputs": [
    {
     "data": {
      "text/plain": [
       "array([[0.60610332, 0.06036468, 0.        ],\n",
       "       [0.        , 0.0154258 , 0.        ],\n",
       "       [0.        , 0.        , 0.16354536]])"
      ]
     },
     "execution_count": 4,
     "metadata": {},
     "output_type": "execute_result"
    }
   ],
   "source": [
    "relu(np.random.normal(size=(3,3)))"
   ]
  },
  {
   "cell_type": "code",
   "execution_count": 5,
   "id": "aa4e7157",
   "metadata": {},
   "outputs": [],
   "source": [
    "class Neuron:\n",
    "    def __init__(self, weight, activation_func):\n",
    "        self.weight = weight\n",
    "        self.activation_func = activation_func\n",
    "    \n",
    "    def __call__(self, data):\n",
    "        h = np.sum(data) * self.weight\n",
    "        if self.activation_func:\n",
    "            h = self.activation_func(h)\n",
    "        return h"
   ]
  },
  {
   "cell_type": "code",
   "execution_count": 8,
   "id": "136a287c",
   "metadata": {},
   "outputs": [
    {
     "data": {
      "text/plain": [
       "np.float64(0.0)"
      ]
     },
     "execution_count": 8,
     "metadata": {},
     "output_type": "execute_result"
    }
   ],
   "source": [
    "n = Neuron(-.25, relu)\n",
    "n(df.iloc[0, :-1])"
   ]
  },
  {
   "cell_type": "code",
   "execution_count": 10,
   "id": "d19f35d5",
   "metadata": {},
   "outputs": [],
   "source": [
    "def get_random_weight_or_bias():\n",
    "    return np.random.normal() - 0.5\n",
    "\n",
    "class Layer:\n",
    "    def __init__(self, hidden_size):\n",
    "        self.hidden_size = hidden_size\n",
    "    \n",
    "    def initialize(self):\n",
    "        self.neurons = [Neuron(get_random_weight_or_bias(), relu) for _ in range(self.hidden_size)]\n",
    "    \n",
    "    def __call__(self, data):\n",
    "        return np.array([n(data) for n in self.neurons])"
   ]
  },
  {
   "cell_type": "code",
   "execution_count": 11,
   "id": "80a6325a",
   "metadata": {},
   "outputs": [
    {
     "data": {
      "text/plain": [
       "[<__main__.Neuron at 0x793e5c7421b0>,\n",
       " <__main__.Neuron at 0x793e5c7423f0>,\n",
       " <__main__.Neuron at 0x793e5c742540>,\n",
       " <__main__.Neuron at 0x793e5c7401d0>,\n",
       " <__main__.Neuron at 0x793e5c740380>,\n",
       " <__main__.Neuron at 0x793e5c7404d0>,\n",
       " <__main__.Neuron at 0x793e5c740a70>,\n",
       " <__main__.Neuron at 0x793e5c742060>,\n",
       " <__main__.Neuron at 0x793e5c740140>,\n",
       " <__main__.Neuron at 0x793e5c740080>]"
      ]
     },
     "execution_count": 11,
     "metadata": {},
     "output_type": "execute_result"
    }
   ],
   "source": [
    "l = Layer(10)\n",
    "l.initialize()\n",
    "l.neurons"
   ]
  },
  {
   "cell_type": "code",
   "execution_count": 13,
   "id": "4b5a2413",
   "metadata": {},
   "outputs": [
    {
     "data": {
      "text/plain": [
       "0.6921186834438673"
      ]
     },
     "execution_count": 13,
     "metadata": {},
     "output_type": "execute_result"
    }
   ],
   "source": [
    "l.neurons[0].weight"
   ]
  },
  {
   "cell_type": "code",
   "execution_count": null,
   "id": "3400bb1a",
   "metadata": {},
   "outputs": [
    {
     "data": {
      "text/plain": [
       "array([ 7.05961057,  0.        ,  0.        ,  0.        , 11.08961966,\n",
       "        0.        ,  0.        ,  9.43020849,  0.        ,  0.        ])"
      ]
     },
     "execution_count": 16,
     "metadata": {},
     "output_type": "execute_result"
    }
   ],
   "source": [
    "l(df.iloc[0, :-1]) # 4 -> 10"
   ]
  },
  {
   "cell_type": "code",
   "execution_count": null,
   "id": "d48cdf47",
   "metadata": {},
   "outputs": [],
   "source": []
  }
 ],
 "metadata": {
  "kernelspec": {
   "display_name": "Python 3",
   "language": "python",
   "name": "python3"
  },
  "language_info": {
   "codemirror_mode": {
    "name": "ipython",
    "version": 3
   },
   "file_extension": ".py",
   "mimetype": "text/x-python",
   "name": "python",
   "nbconvert_exporter": "python",
   "pygments_lexer": "ipython3",
   "version": "3.12.1"
  }
 },
 "nbformat": 4,
 "nbformat_minor": 5
}
